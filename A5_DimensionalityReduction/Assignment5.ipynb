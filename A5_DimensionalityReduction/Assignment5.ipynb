{
 "cells": [
  {
   "cell_type": "markdown",
   "metadata": {},
   "source": [
    "# Assignment 5\n",
    "## Dimensionality reduction, Principal Component Analysis (PCA)\n",
    "\n",
    "**In this assignment, we will see how to analyze high-dimensional neural data:**\n",
    "- basics of **principal component analysis (PCA)**\n",
    "- dimensionality reduction with PCA\n",
    "- as application, we will use a neural data recorded from monkey prefrontal cortex during a working memory task\n",
    "- finally, we will decode the memorized cue from the monkey's brain activity (optional)\n"
   ]
  },
  {
   "cell_type": "markdown",
   "metadata": {},
   "source": [
    "<div class=\"alert alert-block alert-warning\">\n",
    "<b>Preparing for this assignment:</b> \n",
    "\n",
    "The <a href=\"https://compneuro.neuromatch.io/tutorials/W1D4_DimensionalityReduction/student/W1D4_Intro.html\" target=\"_blank\">material from the Neuromatch Academy Summer School</a> is a great resource if you want to dive deeper into this topic. \n",
    "The following resources will help you to get ready to complete this assignment. \n",
    "<ul>\n",
    "    <li>Watch <a href=\"https://youtube.com/watch?v=zeBFyRaoVnQ\" target=\"_blank\">this video</a> (until to 23:15 min) as an introductoin to dimensionality reduction in neuroscience. You will learn that dimensionality reduction is a machine learning technique for transforming data from a high-dimensional space into a lower-dimensional space. In the video, Byron Yu introduces you to the basic concepts of dimensionality reduction and discusses how it is used to investigate the possible underlying low-dimensional structure of neural population activity.\n",
    "    <li>This <a href=\"https://youtube.com/watch?v=-f6T9--oM0E\" target=\"_blank\">video</a> from the Neuromatch summer school explains the mathematical basis of PCA. If necessary, refresh your knowledge about covariance matrices and eigenvalues (this is not a maths course but it will help you to get a better intuition how PCA works).\n",
    "        <li>Check out these sites to gain intuition on what PCA is and is used for: \n",
    "    <ul>\n",
    "        <li> <a href=\"https://towardsdatascience.com/a-one-stop-shop-for-principal-component-analysis-5582fb7e0a9c\">https://towardsdatascience.com/a-one-stop-shop-for-principal-component-analysis-5582fb7e0a9c </a></li>\n",
    "        <li> <a href=\"https://setosa.io/ev/principal-component-analysis/\">https://setosa.io/ev/principal-component-analysis/</a> </li>\n",
    "    </ul>\n",
    "</ul>\n",
    "</div>"
   ]
  },
  {
   "cell_type": "markdown",
   "metadata": {},
   "source": [
    "---\n",
    "## About the dataset\n",
    "\n",
    "We will first have a look at the neural dataset used for this assignment. \n",
    "\n",
    "The dataset contains spike trains for hundreds of single neurons in lateral prefrontal cortex.\n",
    "Two macaque monkeys performed a parametric working memory task, similar to the tasks that human participants performed in our Assignments 1 and 2.\n",
    "The figure below shows the general structure of the task: a cue is shown on the screen for 0.5 s and then followed by a 3-s delay, \n",
    "which is relatively long for many primate neurophysiology experiments. \n",
    "The task had eight stimuli for angular locations (0º, 45º, 90º, 135º, 180º, 225º, 270º and 315º).\n",
    "Only correctly performed trials were analyzed.\n",
    "\n",
    "More information can be found in the [Murray et al. 2017 paper](https://github.com/wimmerlab/MBC-DataAnalysis/blob/main/literature/Murray_PNAS_2017.pdf).\n",
    "\n",
    "![Outlier](https://raw.githubusercontent.com/wimmerlab/MBC-DataAnalysis/main/A5_DimensionalityReduction/ODR_task.png)\n",
    "\n",
    "\n",
    "### Scientific goal\n",
    "- Our goal is to test whether the population of prefrontal cortex neurons maintains a stable, low-dimensional, representation of the cue during the delay period.\n",
    "- We will reproduce some of the key figures from the Murray et al. 2017 paper, with some simplifications.\n"
   ]
  },
  {
   "cell_type": "markdown",
   "metadata": {},
   "source": [
    "\n",
    "---\n",
    "## Load the data\n",
    "\n",
    "We have already computed average firing rates for each neuron and cue and organized them in a 3-dimensional array containing the firing rate for each neuron, cue and timebin. Run the code below and inspect `firing_rates`, `cues` and `timebins` before you continue."
   ]
  },
  {
   "cell_type": "code",
   "execution_count": 1,
   "metadata": {},
   "outputs": [],
   "source": [
    "import scipy.io\n",
    "import numpy as np\n",
    "import matplotlib.pyplot as plt\n",
    "import pandas as pd\n",
    "from sklearn.decomposition import PCA\n",
    "from urllib.request import urlopen\n",
    "\n",
    "#with open('Constantinidis_ODR_250_ms.pickle','rb') as f:\n",
    "with urlopen(\"https://raw.githubusercontent.com/wimmerlab/MBC-DataAnalysis/main/A5_DimensionalityReduction/Constantinidis_ODR_250_ms.pickle\") as f:\n",
    "    loaded_obj = pd.read_pickle(f)\n",
    "    \n",
    "firing_rates = loaded_obj['dataTensor']        # 3-D array: cues x neurons x time\n",
    "cues = loaded_obj['cues']                      # vector with the 8 possible cue stimuli\n",
    "cue_colors = loaded_obj['cue_colors']          # colors used for plotting\n",
    "timebins = loaded_obj['timebins']              # DataFrame containing the timing information\n",
    "\n",
    "# define the number of cues, neurons and timebins\n",
    "n_cues, n_neurons, n_t = firing_rates.shape"
   ]
  },
  {
   "cell_type": "code",
   "execution_count": null,
   "metadata": {},
   "outputs": [],
   "source": []
  },
  {
   "cell_type": "markdown",
   "metadata": {},
   "source": [
    "---\n",
    "## Visualize single neuron activity\n",
    "\n",
    "Consider the `plot_single_neuron` function below. What is it doing? Try to understand what is plotted in the three lines with `plot` commands."
   ]
  },
  {
   "cell_type": "code",
   "execution_count": 2,
   "metadata": {},
   "outputs": [],
   "source": [
    "def plot_single_neuron(firing_rates, timebins, cues, cue_colors, my_neuron):\n",
    "\n",
    "    fig, ax = plt.subplots(1,2,figsize=(10, 5))\n",
    "\n",
    "    # first panel: firing rate timecourse\n",
    "    \n",
    "    # Set the color order to the cue_colors\n",
    "    ax[0].set_prop_cycle(color=cue_colors)\n",
    "\n",
    "    # Plot the neural firing rates for each cue as a function of time.\n",
    "    ax[0].plot(timebins['t'], firing_rates[:, my_neuron, :].T, linewidth=2)\n",
    "    ax[0].set_xlabel('time (s)')\n",
    "    ax[0].set_ylabel('firing rate (Hz)')\n",
    "    \n",
    "    # Add a gray shaded area to indicate the stimulus period\n",
    "    stim_start = min(timebins['t_start'][timebins['cue']])\n",
    "    stim_end = max(timebins['t_end'][timebins['cue']])\n",
    "    ax[0].fill_between([stim_start, stim_end], ax[0].get_ylim()[0], ax[0].get_ylim()[1], color='gray', alpha=0.2)\n",
    "\n",
    "    # second panel: memory tuning curves\n",
    "    \n",
    "    # compute average firing rate in response to each cue, averaged across the delay duration\n",
    "    delay_rate = np.mean(firing_rates[:, my_neuron, timebins['delay']], axis=1)\n",
    "    \n",
    "    # compute average firing rate in response to each cue, averaged across the cue period\n",
    "    cue_rate = np.mean(firing_rates[:, my_neuron, timebins['cue']], axis=1)\n",
    "\n",
    "    # do the plotting\n",
    "    ax[1].plot(cues, delay_rate, linewidth=2, color='k', linestyle='-')\n",
    "    ax[1].plot(cues, cue_rate, linewidth=2, color='k', linestyle='--')\n",
    "    ax[1].set_xticks(cues)\n",
    "    ax[1].set_xlabel('cue (º)')\n",
    "    ax[1].set_ylabel('firing rate (Hz)')\n",
    "    plt.show()\n",
    "    "
   ]
  },
  {
   "cell_type": "markdown",
   "metadata": {},
   "source": [
    "**Use the function to plot the activity of neuron 95 and neuron 14. What could these two neurons be encoding?** Note that the colors correspond to different cues as in the figure at the beginning of the notebook that shows the 8 different cue positions.\n",
    "\n",
    "Try to plot other neurons too. You will see that there is considerable heterogeneity in the dataset and also lots of neurons with quite \"noisy\" responses. You find some more examples also in the Murray et al. 2017 paper (Fig. S1 on page 11).\n",
    "\n",
    "**The heterogeneity of single neuron responses is an important motiviation for our population level analysis.**"
   ]
  },
  {
   "cell_type": "code",
   "execution_count": 3,
   "metadata": {},
   "outputs": [],
   "source": [
    "# plot the responses of a single neuron to different cues\n",
    "# try neurons 95 and neuron 14\n",
    "\n"
   ]
  },
  {
   "cell_type": "markdown",
   "metadata": {},
   "source": [
    "---\n",
    "## Prepare the data for PCA analysis\n",
    "\n",
    "Before we can do PCA, we must subtract the mean from our data. In our case, we want to compute the mean-subtracted population response as follows:\n",
    "For each neuron and each timebin, subtract the mean responses across all cues for the given neuron and the given timebin. There are multiple ways of doing this, you can use a `for` loop or Google around and see how the numpy command `mean` allows you to compute the mean along a specific dimension so that you can do everything in just one line of code."
   ]
  },
  {
   "cell_type": "code",
   "execution_count": null,
   "metadata": {},
   "outputs": [],
   "source": [
    "\n",
    "# compute mean-subtracted pop response\n",
    "firing_rates_norm = ???\n",
    "\n",
    "# plot normlized firing rates of neuron 95 using plot_single_neuron\n",
    "???\n"
   ]
  },
  {
   "cell_type": "markdown",
   "metadata": {},
   "source": [
    "The typical thing to do would be to compute PCA on the normalized firing rates that we have just computed (i.e. using the data shown in the right panel of the figure that you have just created). That is, we would perform PCA over both cues and time and the obainted principal components would allow us to identify the most prominent neural response patterns in the data (see [Figure 1 of Kobak et al 2016](https://elifesciences.org/articles/10989) for an example of this approach).\n",
    "\n",
    "Here, we will perform PCA only over stimuli, rather than over both stimulus and time. This is exactly the approach used in Murray et al. (2017). The reason is that we want to specifically test whether there exists a stable and time-independent working memory representation in our population of prefrontal neurons. This is an interesting scientific question and the analysis is somewhat easier to code. Moreover, the interpretation of the results is relatively straight-forward. Nevertheless, after the assignment you will have acquired all the necessary skills to do a full PCA analysis (e.g. across stimuli and time).\n",
    "\n",
    "**The next step is to compute the average firing rate during the delay, for each neuron and each cue.** This is exactly the same as the solid black line in the right figure panel produced by `plot_single_neuron` above but for all the neurons."
   ]
  },
  {
   "cell_type": "code",
   "execution_count": 5,
   "metadata": {},
   "outputs": [],
   "source": [
    "# compute the average over the delay activity\n",
    "x_avg = ???\n",
    "\n",
    "# assure that the mean activity of each neuron across stimuli is zero and that x_avg has the right shape\n",
    "assert np.max(np.abs(np.mean(x_avg, axis=0))) < 1e-10\n",
    "assert x_avg.shape == (8,488)"
   ]
  },
  {
   "cell_type": "markdown",
   "metadata": {},
   "source": [
    "---\n",
    "## Perform PCA\n",
    "\n",
    "We are now ready to perform PCA on our average data `x_avg`. Follow the steps of the tutorial notebook. "
   ]
  },
  {
   "cell_type": "code",
   "execution_count": 6,
   "metadata": {},
   "outputs": [],
   "source": [
    "\n",
    "# perform PCA on the average delay activity\n",
    "pca = ???\n",
    "\n",
    "\n",
    "# principal components: the projected time-averaged data\n",
    "PC_avg = ???\n",
    "\n",
    "# get the explained variance corresponding to each principal component.\n",
    "evals = ???\n"
   ]
  },
  {
   "cell_type": "markdown",
   "metadata": {},
   "source": [
    "**Variance explained by different principal components**\n",
    "The first thing we want to check is how much variance is explained by each of the principal components. Remember that the princpial components are ordered such that the first principal component (PC1) is the axis that explains more variance, PC2 comes after, and so on.\n",
    "\n",
    "- First compute the relative variance explained from the values in `evals`(i.e., converting the numbers into percentages).\n",
    "- Then make a bar plot of the relative variance explained.\n",
    "- How much variance is captured by the first two principal components?\n",
    "\n",
    "The figure that you get should be similar to Fig. S3A in Murray et al. (2017)."
   ]
  },
  {
   "cell_type": "code",
   "execution_count": null,
   "metadata": {},
   "outputs": [],
   "source": [
    "# compute the percentage of total variance explained by each principal component\n",
    "explained = ???\n",
    "\n",
    "# Plot ammount of variance of the first 10 PC\n",
    "???\n",
    "plt.xlabel('Principal Component (PC)')\n",
    "plt.ylabel('% variance explained')\n",
    "plt.show()\n",
    "\n",
    "# compute the variance explained by the first two components\n",
    "print(???)  # print the total variance explained by the first two principal components"
   ]
  },
  {
   "cell_type": "markdown",
   "metadata": {},
   "source": [
    "**Plot the principal components**\n",
    "Let's visualize the first 4 principal components. For reasons that will become clear in a minute, we will plot the PC1 and PC2 in the same subplot and PC3 and PC4 in another subplot. In the Murray paper, these are Figures S3C and E."
   ]
  },
  {
   "cell_type": "code",
   "execution_count": null,
   "metadata": {},
   "outputs": [],
   "source": [
    "\n",
    "# plot variance explained by principal components\n",
    "fig, ax = plt.subplots(1,2,figsize=(10, 5))\n",
    "\n",
    "# plot time-averaged data projected to subspace\n",
    "???\n",
    "ax[0].set_xlim([-190, 190])\n",
    "ax[0].set_ylim([-60, 80])\n",
    "ax[0].set_xlabel('cue (º)')\n",
    "ax[0].set_ylabel('stimulus PC')\n",
    "\n",
    "# plot time-averaged data projected to subspace\n",
    "???\n",
    "ax[1].set_xlim([-190, 190])\n",
    "ax[1].set_ylim([-60, 80])\n",
    "ax[1].set_xlabel('cue (º)')\n",
    "ax[1].set_ylabel('stimulus PC')\n",
    "\n",
    "plt.show()\n"
   ]
  },
  {
   "cell_type": "markdown",
   "metadata": {},
   "source": [
    "**Interpretation of the results**\n",
    "You should see that the first two principal components explain a large fraction of the variance. Moreover, they appear to provide an almost perfect sinusoidal coding of the stimuli. Let's verify that by plotting PC1 vs. PC2. The result should resemble a simplified version of Fig. 2A of the Murray paper."
   ]
  },
  {
   "cell_type": "code",
   "execution_count": null,
   "metadata": {},
   "outputs": [],
   "source": [
    "fig, ax = plt.subplots(figsize=(8, 6))\n",
    "\n",
    "# set x and y axis limits\n",
    "ax.set_xlim([-50, 90])\n",
    "ax.set_ylim([-70, 70])\n",
    "\n",
    "# plot population 2D coding subspace formed by the first two principal components\n",
    "for i in range(n_cues):\n",
    "    ax.plot(???, ???, 'o', color='w', markerfacecolor=cue_colors[i], linewidth=2, markersize=15)\n",
    "\n",
    "# set x and y axis labels\n",
    "ax.set_xlabel('Stimulus PC1')\n",
    "ax.set_ylabel('Stimulus PC2')\n",
    "\n",
    "plt.show()"
   ]
  },
  {
   "cell_type": "markdown",
   "metadata": {},
   "source": [
    "**Compare the plot to the first figure of this notebook, the illustration of the task** What do you conclude?"
   ]
  },
  {
   "cell_type": "markdown",
   "metadata": {},
   "source": []
  },
  {
   "cell_type": "markdown",
   "metadata": {},
   "source": [
    "---\n",
    "## Using PCA for dimensionalty reduction\n",
    "\n",
    "We have actually just used PCA for dimensionalty reduction: instead of looking at our high-dimesional data, `x_avg` with 8 x 488 dimensions (cues x neurons), we have plotted the first two PCs, with dimension 8 x 2 (cues x PCs). We have thus reduced the dimensionalty from 488 to 2! In general dimensionalty reduction with PCA means to keep only a number of principal components.\n",
    "\n",
    "**In our particular example, we will now use the 2-D subspace obtained by the first two principal components and project the time-dependent data into this subspace.** Why would we like to do that? We have found that this 2-D space contains a nice representation of the memorized cues. Now we would like to see whether this representation is stable throughout the delay period. Or in other words: can we project the time-dependent firing rates into this 2-D coding space and recover, at each moment in time, the cue that the monkey is remembering? "
   ]
  },
  {
   "cell_type": "code",
   "execution_count": 10,
   "metadata": {},
   "outputs": [],
   "source": [
    "# initialize arrays for time-resolved data projected to subspace and projected data in original space\n",
    "PC_time = np.zeros((n_cues, 2, n_t))\n",
    "\n",
    "# loop over time points and project data to subspace\n",
    "for i in ???:\n",
    "    \n",
    "    # get normalized firing rates for timebin i\n",
    "    x_t = ???\n",
    "\n",
    "    # compute projection of time-resolved data using pca.transform\n",
    "    PC_one_time_bin = pca.???\n",
    "    \n",
    "    # keep only the first two PCs\n",
    "    PC_time[:, :, i] = ???\n"
   ]
  },
  {
   "cell_type": "markdown",
   "metadata": {},
   "source": [
    "**Now, we will plot the population trajectory projected along principal axis 1 and 2 (i.e. `PC_time`)**\n",
    "The result should be similar to Fig. S3G and I of Murray et al. (2017) and showing relatively stable stimulus coding during the delay epoch as well as in the preceding cue epoch."
   ]
  },
  {
   "cell_type": "code",
   "execution_count": null,
   "metadata": {},
   "outputs": [],
   "source": [
    "fig, axs = plt.subplots(2, 1)\n",
    "\n",
    "# plot the population trajectory projected along principal axis 1 in the first subplot\n",
    "axs[0].set_prop_cycle(color=cue_colors)\n",
    "axs[0].plot(???, ???, linewidth=2)\n",
    "\n",
    "# plot the population trajectory projected along principal axis 2 in the second subplot\n",
    "axs[1].set_prop_cycle(color=cue_colors)\n",
    "axs[1].plot(???, ???, linewidth=2)\n",
    "\n",
    "plt.show()\n"
   ]
  },
  {
   "cell_type": "markdown",
   "metadata": {},
   "source": [
    "**Finally, run the folowing code which should reproduce Fig. 2A of the Murray paper.** Think about what the thin lines represent. What can we conclude about the stability of working memory during the delay period?"
   ]
  },
  {
   "cell_type": "markdown",
   "metadata": {},
   "source": []
  },
  {
   "cell_type": "code",
   "execution_count": 12,
   "metadata": {},
   "outputs": [
    {
     "data": {
      "image/png": "[encoded data removed]",
      "text/plain": [
       "<Figure size 640x480 with 1 Axes>"
      ]
     },
     "metadata": {},
     "output_type": "display_data"
    }
   ],
   "source": [
    "fig, ax = plt.subplots()\n",
    "ax.set_xlim([-50, 90])\n",
    "ax.set_ylim([-70, 70])\n",
    "\n",
    "# plot the population trajectory in the coding subspace formed by the first two principal axes\n",
    "i_pre_delay = timebins.fixation | timebins.cue\n",
    "for i in range(n_cues):\n",
    "    ax.plot(PC_time[i, 0, i_pre_delay], PC_time[i, 1, i_pre_delay], '-', color=cue_colors[i, :], linewidth=0.5)\n",
    "    ax.plot(PC_time[i, 0, timebins.delay], PC_time[i, 1, timebins.delay], '-', color=cue_colors[i, :], linewidth=2)\n",
    "\n",
    "# plot the average population activity for each cue\n",
    "for i in range(n_cues):\n",
    "    ax.plot(PC_avg[i, 0], PC_avg[i, 1], 'o', color='w', markerfacecolor=cue_colors[i, :], linewidth=2, markersize=8)\n",
    "\n",
    "# add axis labels\n",
    "ax.set_xlabel('Stimulus PC1')\n",
    "ax.set_ylabel('Stimulus PC2')\n",
    "\n",
    "# show the plot\n",
    "plt.show()"
   ]
  },
  {
   "cell_type": "markdown",
   "metadata": {},
   "source": []
  }
 ],
 "metadata": {
  "hide_input": false,
  "kernelspec": {
   "display_name": "Python 3 (ipykernel)",
   "language": "python",
   "name": "python3"
  },
  "language_info": {
   "codemirror_mode": {
    "name": "ipython",
    "version": 3
   },
   "file_extension": ".py",
   "mimetype": "text/x-python",
   "name": "python",
   "nbconvert_exporter": "python",
   "pygments_lexer": "ipython3",
   "version": "3.9.13"
  },
  "toc": {
   "base_numbering": 1,
   "nav_menu": {},
   "number_sections": true,
   "sideBar": true,
   "skip_h1_title": false,
   "title_cell": "Table of Contents",
   "title_sidebar": "Contents",
   "toc_cell": false,
   "toc_position": {},
   "toc_section_display": true,
   "toc_window_display": false
  },
  "varInspector": {
   "cols": {
    "lenName": 16,
    "lenType": 16,
    "lenVar": 40
   },
   "kernels_config": {
    "python": {
     "delete_cmd_postfix": "",
     "delete_cmd_prefix": "del ",
     "library": "var_list.py",
     "varRefreshCmd": "print(var_dic_list())"
    },
    "r": {
     "delete_cmd_postfix": ") ",
     "delete_cmd_prefix": "rm(",
     "library": "var_list.r",
     "varRefreshCmd": "cat(var_dic_list()) "
    }
   },
   "types_to_exclude": [
    "module",
    "function",
    "builtin_function_or_method",
    "instance",
    "_Feature"
   ],
   "window_display": false
  }
 },
 "nbformat": 4,
 "nbformat_minor": 2
}
