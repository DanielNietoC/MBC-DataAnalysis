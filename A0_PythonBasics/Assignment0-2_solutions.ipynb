{
 "cells": [
  {
   "cell_type": "markdown",
   "metadata": {
    "id": "YioJdUgDvB_A"
   },
   "source": [
    "# Second steps into Python"
   ]
  },
  {
   "cell_type": "markdown",
   "metadata": {
    "id": "YKmNcAmzvntI"
   },
   "source": [
    "<div class=\"alert alert-block alert-warning\">\n",
    "<b>Optional exercises:</b> \n",
    "\n",
    "The second, **optional**, part of Assignment 1 contains additional excersises to train your Python skills, including the handling of DataFrames. \n",
    "</div>"
   ]
  },
  {
   "cell_type": "markdown",
   "metadata": {
    "id": "bYrPLyirvB_K"
   },
   "source": [
    "We start by importing the libraries, loading the data and defining the `circ_dist` function. Nothing new here."
   ]
  },
  {
   "cell_type": "code",
   "execution_count": 1,
   "metadata": {
    "ExecuteTime": {
     "end_time": "2022-01-27T22:18:59.136051Z",
     "start_time": "2022-01-27T22:18:58.507402Z"
    },
    "id": "NA2nT_F-vB_O"
   },
   "outputs": [],
   "source": [
    "import numpy as np\n",
    "import matplotlib.pyplot as plt\n",
    "import pandas as pd\n",
    "\n",
    "def circdist_rad(angles1,angles2):\n",
    "    output = np.angle( np.exp(1j*(angles1-angles2))) # mathematical operation to get the circular distance\n",
    "    return output # return the circular distance in radians \n",
    "\n",
    "# load the data from github\n",
    "df = pd.read_csv(\"https://raw.githubusercontent.com/wimmerlab/MBC-DataAnalysis/main/A0_PythonBasics/Experiment2_all_subjects.csv\",sep=' ')\n",
    "\n",
    "# add the error in radians\n",
    "df['error'] = circdist_rad(df.response, df. target)\n",
    "df.head()\n",
    "\n",
    "# list of subjects\n",
    "subjects = np.unique(df.subject)\n"
   ]
  },
  {
   "cell_type": "markdown",
   "metadata": {},
   "source": [
    "## Exercise 1"
   ]
  },
  {
   "cell_type": "markdown",
   "metadata": {},
   "source": [
    "We want to check out that the experiment was well balanced in terms of laterality. The question is: **how many trials had the target in the left and in the right hemifields for each subject?**"
   ]
  },
  {
   "cell_type": "markdown",
   "metadata": {},
   "source": [
    "Write the code to respond to that question. First think about a single subject, and then repeat the code in a for loop across all subjects.\n",
    "\n",
    "1) Select the data for one subject. Remember you do that by defining a boolean for the subject, then subsetting the general dataframe `df` into a new dataframe `ds`.\n",
    "\n",
    "2) Spend some time to think what condition you have to impose to determine that a trial had the target in the left hemifield, and what conditions would indicate that it is in the right or the left hemifield. Remember that our angles go from $-\\pi$ to $\\pi$ and the angle 0 corresponds to the angle marking 3 o'clock. Do some drawing! Express these conditions as booleans `bool_left` and `bool_right`. Hint: you can use the function `abs`.\n",
    "\n",
    "3) Now think about a way to count how many trials you have of each kind. Remember that a boolean is a list of `True` and `False`'s, but when you involve it in algebraic formulas Python treats it as a list of `1` and `0`'s. You essentially want to know how many 1's are in the lists `bool_left` and `bool_right`. How do you get those two counts for this subject?"
   ]
  },
  {
   "cell_type": "code",
   "execution_count": 2,
   "metadata": {
    "ExecuteTime": {
     "end_time": "2022-01-27T22:18:59.183109Z",
     "start_time": "2022-01-27T22:18:59.176113Z"
    }
   },
   "outputs": [
    {
     "data": {
      "text/plain": [
       "(35, 44)"
      ]
     },
     "execution_count": 2,
     "metadata": {},
     "output_type": "execute_result"
    }
   ],
   "source": [
    "bool_s = df.subject==0\n",
    "ds = df[bool_s].reset_index(drop=True)\n",
    "\n",
    "bool_left = abs(ds.target) > np.pi/2\n",
    "bool_right = abs(ds.target) < np.pi/2\n",
    "\n",
    "np.sum(bool_left), np.sum(bool_right)"
   ]
  },
  {
   "cell_type": "markdown",
   "metadata": {},
   "source": [
    "Now do this for all subjects in a for loop:"
   ]
  },
  {
   "cell_type": "code",
   "execution_count": 3,
   "metadata": {
    "ExecuteTime": {
     "end_time": "2022-01-27T22:18:59.202566Z",
     "start_time": "2022-01-27T22:18:59.184159Z"
    },
    "id": "TbJLoq4yQxfY"
   },
   "outputs": [
    {
     "name": "stdout",
     "output_type": "stream",
     "text": [
      "(35, 44)\n",
      "(18, 27)\n",
      "(41, 52)\n",
      "(34, 34)\n",
      "(39, 32)\n",
      "(39, 43)\n",
      "(96, 96)\n",
      "(51, 56)\n",
      "(58, 62)\n"
     ]
    }
   ],
   "source": [
    "for sub in subjects:\n",
    "    bool_s = df.subject==sub\n",
    "    ds = df[bool_s].reset_index(drop=True)\n",
    "    \n",
    "    bool_left = abs(ds.target) > np.pi/2\n",
    "    bool_right = abs(ds.target) < np.pi/2\n",
    "    \n",
    "    print((np.sum(bool_left), np.sum(bool_right)))"
   ]
  },
  {
   "cell_type": "markdown",
   "metadata": {},
   "source": [
    "We can do exactly the same but much more compact in Pandas:"
   ]
  },
  {
   "cell_type": "code",
   "execution_count": 4,
   "metadata": {
    "ExecuteTime": {
     "end_time": "2022-01-27T22:18:59.218791Z",
     "start_time": "2022-01-27T22:18:59.204409Z"
    }
   },
   "outputs": [
    {
     "data": {
      "text/html": [
       "<div>\n",
       "<style scoped>\n",
       "    .dataframe tbody tr th:only-of-type {\n",
       "        vertical-align: middle;\n",
       "    }\n",
       "\n",
       "    .dataframe tbody tr th {\n",
       "        vertical-align: top;\n",
       "    }\n",
       "\n",
       "    .dataframe thead th {\n",
       "        text-align: right;\n",
       "    }\n",
       "</style>\n",
       "<table border=\"1\" class=\"dataframe\">\n",
       "  <thead>\n",
       "    <tr style=\"text-align: right;\">\n",
       "      <th></th>\n",
       "      <th>left</th>\n",
       "      <th>right</th>\n",
       "    </tr>\n",
       "    <tr>\n",
       "      <th>subject</th>\n",
       "      <th></th>\n",
       "      <th></th>\n",
       "    </tr>\n",
       "  </thead>\n",
       "  <tbody>\n",
       "    <tr>\n",
       "      <th>0.0</th>\n",
       "      <td>35</td>\n",
       "      <td>44</td>\n",
       "    </tr>\n",
       "    <tr>\n",
       "      <th>1.0</th>\n",
       "      <td>18</td>\n",
       "      <td>27</td>\n",
       "    </tr>\n",
       "    <tr>\n",
       "      <th>2.0</th>\n",
       "      <td>41</td>\n",
       "      <td>52</td>\n",
       "    </tr>\n",
       "    <tr>\n",
       "      <th>3.0</th>\n",
       "      <td>34</td>\n",
       "      <td>34</td>\n",
       "    </tr>\n",
       "    <tr>\n",
       "      <th>4.0</th>\n",
       "      <td>39</td>\n",
       "      <td>32</td>\n",
       "    </tr>\n",
       "    <tr>\n",
       "      <th>5.0</th>\n",
       "      <td>39</td>\n",
       "      <td>43</td>\n",
       "    </tr>\n",
       "    <tr>\n",
       "      <th>6.0</th>\n",
       "      <td>96</td>\n",
       "      <td>96</td>\n",
       "    </tr>\n",
       "    <tr>\n",
       "      <th>7.0</th>\n",
       "      <td>51</td>\n",
       "      <td>56</td>\n",
       "    </tr>\n",
       "    <tr>\n",
       "      <th>8.0</th>\n",
       "      <td>58</td>\n",
       "      <td>62</td>\n",
       "    </tr>\n",
       "  </tbody>\n",
       "</table>\n",
       "</div>"
      ],
      "text/plain": [
       "         left  right\n",
       "subject             \n",
       "0.0        35     44\n",
       "1.0        18     27\n",
       "2.0        41     52\n",
       "3.0        34     34\n",
       "4.0        39     32\n",
       "5.0        39     43\n",
       "6.0        96     96\n",
       "7.0        51     56\n",
       "8.0        58     62"
      ]
     },
     "execution_count": 4,
     "metadata": {},
     "output_type": "execute_result"
    }
   ],
   "source": [
    "df['left'] = abs(df.target) > np.pi/2\n",
    "df['right'] = abs(df.target) < np.pi/2\n",
    "df.groupby('subject')[['left','right']].agg('sum')"
   ]
  },
  {
   "cell_type": "markdown",
   "metadata": {},
   "source": [
    "## Exercise 2"
   ]
  },
  {
   "cell_type": "markdown",
   "metadata": {},
   "source": [
    "Now order the subjects by the precision in their responses. There can be several ways to measure precision. First, let's define precision as the mean of squared response errors. What is the ranking of more to less precise subjects in our database? \n",
    "\n",
    "You can do this by adding the column `error2` with the squared errors (note that Python uses `**` for exponentiation to integers), then running a for-loop through subjects and subsetting `df`, computing mean squared error for each subject and store it in a pandas dataframe (see how you do this, using the `loc` function in the dataframe). Finally, sort this dataframe using the pandas function `sort_values()`. \n"
   ]
  },
  {
   "cell_type": "code",
   "execution_count": 5,
   "metadata": {
    "ExecuteTime": {
     "end_time": "2022-01-27T22:18:59.246859Z",
     "start_time": "2022-01-27T22:18:59.220367Z"
    }
   },
   "outputs": [
    {
     "data": {
      "text/html": [
       "<div>\n",
       "<style scoped>\n",
       "    .dataframe tbody tr th:only-of-type {\n",
       "        vertical-align: middle;\n",
       "    }\n",
       "\n",
       "    .dataframe tbody tr th {\n",
       "        vertical-align: top;\n",
       "    }\n",
       "\n",
       "    .dataframe thead th {\n",
       "        text-align: right;\n",
       "    }\n",
       "</style>\n",
       "<table border=\"1\" class=\"dataframe\">\n",
       "  <thead>\n",
       "    <tr style=\"text-align: right;\">\n",
       "      <th></th>\n",
       "      <th>mse</th>\n",
       "    </tr>\n",
       "  </thead>\n",
       "  <tbody>\n",
       "    <tr>\n",
       "      <th>8.0</th>\n",
       "      <td>0.011201</td>\n",
       "    </tr>\n",
       "    <tr>\n",
       "      <th>1.0</th>\n",
       "      <td>0.011916</td>\n",
       "    </tr>\n",
       "    <tr>\n",
       "      <th>6.0</th>\n",
       "      <td>0.013771</td>\n",
       "    </tr>\n",
       "    <tr>\n",
       "      <th>7.0</th>\n",
       "      <td>0.017944</td>\n",
       "    </tr>\n",
       "    <tr>\n",
       "      <th>3.0</th>\n",
       "      <td>0.019521</td>\n",
       "    </tr>\n",
       "    <tr>\n",
       "      <th>5.0</th>\n",
       "      <td>0.029432</td>\n",
       "    </tr>\n",
       "    <tr>\n",
       "      <th>2.0</th>\n",
       "      <td>0.031195</td>\n",
       "    </tr>\n",
       "    <tr>\n",
       "      <th>4.0</th>\n",
       "      <td>0.043539</td>\n",
       "    </tr>\n",
       "    <tr>\n",
       "      <th>0.0</th>\n",
       "      <td>0.046969</td>\n",
       "    </tr>\n",
       "  </tbody>\n",
       "</table>\n",
       "</div>"
      ],
      "text/plain": [
       "          mse\n",
       "8.0  0.011201\n",
       "1.0  0.011916\n",
       "6.0  0.013771\n",
       "7.0  0.017944\n",
       "3.0  0.019521\n",
       "5.0  0.029432\n",
       "2.0  0.031195\n",
       "4.0  0.043539\n",
       "0.0  0.046969"
      ]
     },
     "execution_count": 5,
     "metadata": {},
     "output_type": "execute_result"
    }
   ],
   "source": [
    "df['error2'] = df['error']**2\n",
    "mse = pd.DataFrame()\n",
    "for sub in subjects:\n",
    "    bool_s = df.subject == sub\n",
    "    ds = df[bool_s].reset_index(drop=True)\n",
    "    mse_s = np.mean(ds['error2'])\n",
    "    mse.loc[sub,'mse']=mse_s\n",
    "    \n",
    "mse.sort_values(by='mse')\n"
   ]
  },
  {
   "cell_type": "markdown",
   "metadata": {},
   "source": [
    "Alternatively, you could use the compact pandas syntax to take the mean of the column `error2` on a subject-by-subject basis, following the scheme in the previous exercise (and then use the pandas function `sort_values()` for sorting)."
   ]
  },
  {
   "cell_type": "code",
   "execution_count": 6,
   "metadata": {
    "ExecuteTime": {
     "end_time": "2022-01-27T22:18:59.255724Z",
     "start_time": "2022-01-27T22:18:59.248236Z"
    }
   },
   "outputs": [
    {
     "data": {
      "text/plain": [
       "subject\n",
       "8.0    0.011201\n",
       "1.0    0.011916\n",
       "6.0    0.013771\n",
       "7.0    0.017944\n",
       "3.0    0.019521\n",
       "5.0    0.029432\n",
       "2.0    0.031195\n",
       "4.0    0.043539\n",
       "0.0    0.046969\n",
       "Name: error2, dtype: float64"
      ]
     },
     "execution_count": 6,
     "metadata": {},
     "output_type": "execute_result"
    }
   ],
   "source": [
    "df.groupby('subject')['error2'].agg('mean').sort_values()"
   ]
  },
  {
   "cell_type": "markdown",
   "metadata": {},
   "source": [
    "An alternative method to compute precision would be by getting the variance of the errors. You could compute the variance of the errors for each subject and then order them based on that variance. Try it here using the pandas compact form:"
   ]
  },
  {
   "cell_type": "code",
   "execution_count": 7,
   "metadata": {
    "ExecuteTime": {
     "end_time": "2022-01-27T22:18:59.270445Z",
     "start_time": "2022-01-27T22:18:59.257404Z"
    }
   },
   "outputs": [
    {
     "data": {
      "text/plain": [
       "subject\n",
       "8.0    0.010929\n",
       "1.0    0.011860\n",
       "6.0    0.013441\n",
       "7.0    0.016828\n",
       "3.0    0.019768\n",
       "5.0    0.026673\n",
       "2.0    0.029201\n",
       "4.0    0.043495\n",
       "0.0    0.047532\n",
       "Name: error, dtype: float64"
      ]
     },
     "execution_count": 7,
     "metadata": {},
     "output_type": "execute_result"
    }
   ],
   "source": [
    "df.groupby('subject')['error'].agg('var').sort_values()"
   ]
  },
  {
   "cell_type": "markdown",
   "metadata": {},
   "source": [
    "is the order obtained by the two methods the same? are the numbers for the precision the same from the two methods? why not?"
   ]
  },
  {
   "cell_type": "markdown",
   "metadata": {},
   "source": [
    "## Exercise 3"
   ]
  },
  {
   "cell_type": "markdown",
   "metadata": {},
   "source": [
    "Let's check if our participants were equally precise when the target was in the top or the bottom hemifield"
   ]
  },
  {
   "cell_type": "markdown",
   "metadata": {},
   "source": [
    "We can check that by plotting the precision in the top hemifield on the x-axis and the precision in the bottom hemifield on the y-axis, for each participant. We can calculate precision (rather, its reciprocal) as the variance of the errors. Think what is the condition that you have to impose on the target angle in order to select trials with target stimulus in the \"top hemifield\" and \"bottom hemifield\". Then compute the variance separately for these different groups of trials, and for each participant. If you save these precisions for all participants in a pandas dataframe, then you can use the function `DataFrame.plot.scatter` to make the plot."
   ]
  },
  {
   "cell_type": "code",
   "execution_count": 8,
   "metadata": {
    "ExecuteTime": {
     "end_time": "2022-01-28T18:19:24.693908Z",
     "start_time": "2022-01-28T18:19:24.541003Z"
    }
   },
   "outputs": [
    {
     "data": {
      "text/plain": [
       "[<matplotlib.lines.Line2D at 0x11d518f10>]"
      ]
     },
     "execution_count": 8,
     "metadata": {},
     "output_type": "execute_result"
    },
    {
     "data": {
      "image/png": "[encoded data removed]",
      "text/plain": [
       "<Figure size 640x480 with 1 Axes>"
      ]
     },
     "metadata": {},
     "output_type": "display_data"
    }
   ],
   "source": [
    "prec=pd.DataFrame()\n",
    "for sub in subjects:\n",
    "    bool_s = df.subject==sub\n",
    "    ds = df[bool_s].reset_index(drop=True)\n",
    "    prec.loc[sub,'top'] = np.var(ds[ds.target>0].error)\n",
    "    prec.loc[sub,'bottom'] = np.var(ds[ds.target<0].error)\n",
    "    \n",
    "ax = prec.plot.scatter(x='top', y='bottom')\n",
    "ax.plot([0, 1], [0, 1], 'k--', transform=ax.transAxes)"
   ]
  },
  {
   "cell_type": "markdown",
   "metadata": {},
   "source": [
    "What do you conclude? Judging from the trend, what hemifield has better memory precision?"
   ]
  },
  {
   "cell_type": "markdown",
   "metadata": {},
   "source": [
    "## Exercise 4"
   ]
  },
  {
   "cell_type": "markdown",
   "metadata": {
    "ExecuteTime": {
     "end_time": "2022-01-28T18:41:03.080997Z",
     "start_time": "2022-01-28T18:41:02.916025Z"
    }
   },
   "source": [
    "Now plot, for all subjects together, the errors when the target was in each of the 4 quadrants. Use the `plt.subplot` function to plot the 4 histograms in subpanels of a figure."
   ]
  },
  {
   "cell_type": "code",
   "execution_count": 9,
   "metadata": {
    "ExecuteTime": {
     "end_time": "2022-01-28T18:47:17.159280Z",
     "start_time": "2022-01-28T18:47:16.826866Z"
    }
   },
   "outputs": [
    {
     "data": {
      "image/png": "[encoded data removed]",
      "text/plain": [
       "<Figure size 640x480 with 4 Axes>"
      ]
     },
     "metadata": {},
     "output_type": "display_data"
    }
   ],
   "source": [
    "angles = np.arange(5)*np.pi/2-np.pi\n",
    "for i in range(4):\n",
    "    bool_a = (df.target>angles[i])&(df.target<angles[i+1])\n",
    "    plt.subplot(2,2,i+1)\n",
    "    plt.hist(df[bool_a].error,20)"
   ]
  },
  {
   "cell_type": "markdown",
   "metadata": {},
   "source": [
    "## Exercise 5"
   ]
  },
  {
   "cell_type": "markdown",
   "metadata": {},
   "source": [
    "What is the minimum and the maximum angular distances between simultaneously presented stimuli?"
   ]
  },
  {
   "cell_type": "code",
   "execution_count": 10,
   "metadata": {
    "ExecuteTime": {
     "end_time": "2022-01-31T16:53:18.380258Z",
     "start_time": "2022-01-31T16:53:18.365049Z"
    }
   },
   "outputs": [
    {
     "name": "stdout",
     "output_type": "stream",
     "text": [
      "min=0.24434960523068083\n",
      "max=3.141592653589793\n"
     ]
    }
   ],
   "source": [
    "df['d1']=np.abs(circdist_rad(df.distr1,df.target))\n",
    "df['d2']=np.abs(circdist_rad(df.distr2,df.target))\n",
    "df['d3']=np.abs(circdist_rad(df.distr1,df.distr2))\n",
    "\n",
    "print('min='+str(np.min([df.d1, df.d2, df.d3])))\n",
    "print('max='+str(np.max([df.d1, df.d2, df.d3])))"
   ]
  }
 ],
 "metadata": {
  "colab": {
   "name": "Assignment 0.ipynb",
   "provenance": []
  },
  "hide_input": false,
  "kernelspec": {
   "display_name": "Python 3 (ipykernel)",
   "language": "python",
   "name": "python3"
  },
  "language_info": {
   "codemirror_mode": {
    "name": "ipython",
    "version": 3
   },
   "file_extension": ".py",
   "mimetype": "text/x-python",
   "name": "python",
   "nbconvert_exporter": "python",
   "pygments_lexer": "ipython3",
   "version": "3.9.13"
  },
  "toc": {
   "base_numbering": 1,
   "nav_menu": {},
   "number_sections": true,
   "sideBar": true,
   "skip_h1_title": false,
   "title_cell": "Table of Contents",
   "title_sidebar": "Contents",
   "toc_cell": false,
   "toc_position": {},
   "toc_section_display": true,
   "toc_window_display": false
  },
  "varInspector": {
   "cols": {
    "lenName": 16,
    "lenType": 16,
    "lenVar": 40
   },
   "kernels_config": {
    "python": {
     "delete_cmd_postfix": "",
     "delete_cmd_prefix": "del ",
     "library": "var_list.py",
     "varRefreshCmd": "print(var_dic_list())"
    },
    "r": {
     "delete_cmd_postfix": ") ",
     "delete_cmd_prefix": "rm(",
     "library": "var_list.r",
     "varRefreshCmd": "cat(var_dic_list()) "
    }
   },
   "types_to_exclude": [
    "module",
    "function",
    "builtin_function_or_method",
    "instance",
    "_Feature"
   ],
   "window_display": false
  }
 },
 "nbformat": 4,
 "nbformat_minor": 1
}
