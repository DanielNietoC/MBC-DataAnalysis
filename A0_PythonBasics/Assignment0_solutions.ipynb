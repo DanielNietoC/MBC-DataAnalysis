{
 "cells": [
  {
   "cell_type": "markdown",
   "metadata": {
    "id": "YioJdUgDvB_A"
   },
   "source": [
    "# First steps into Python"
   ]
  },
  {
   "cell_type": "markdown",
   "metadata": {
    "id": "YKmNcAmzvntI"
   },
   "source": [
    "<div class=\"alert alert-block alert-warning\">\n",
    "<b>Preparing for this assignment:</b> \n",
    "\n",
    "The following resources will help you to get ready to complete this assignment. If you are comfortable programming Python, you can skip this.\n",
    "<ul>\n",
    "    <li>If you do not have experience programming in Python, here is a good tutorial to get you quickly on track: <a href=\"https://cogs18.github.io/intro.html\" target=\"_blank\">Introduction to Python</a> </li>\n",
    "    <li>If you already know other languages and need a technical view of what is special about Python syntax, try <a href=\"https://en.wikipedia.org/wiki/Python_syntax_and_semantics#Indentation\" target=\"_blank\">this</a></li>\n",
    "</ul>\n",
    "</div>"
   ]
  },
  {
   "cell_type": "markdown",
   "metadata": {
    "id": "bYrPLyirvB_K"
   },
   "source": [
    "There are two ways to run Python: either on the cloud (using Google Colab) or locally on your computer using Notebook. Either way if you are reading this, you are probably set to go. Just in case:\n",
    "- To run code on **Google Colab**, you don't need to install anything on your machine since all the computations take place in the cloud.\n",
    "- To run **Python Notebooks** locally, you either need to install Python 3 using Anaconda following [these](https://jupyter.readthedocs.io/en/latest/install.html) instructions or else use [myapps.upf.edu](https://myapps.upf.edu). You will find more detailed instructions in the [course site](https://github.com/wimmerlab/MBC-DataAnalysis) in GitHub.\n",
    "\n"
   ]
  },
  {
   "cell_type": "markdown",
   "metadata": {
    "id": "NMgb__W0vB_L"
   },
   "source": [
    "The actions you can do with Python code are limitless, so you do not need all the tools at the same time. If you loaded all Python tools at once you would be taking up all your computer resources! That is why Python works with **libraries**.  \n",
    "\n",
    "One library is a collection of functions that allows you to perform many actions.   \n",
    "In other words, they have snippets of code created and tested by other people that you can quickly reuse, so you do not need to work as much.\n",
    "\n",
    "Every time you start a new project, you will have to **import** the libraries you will use.  \n",
    "The ones we will need for this assignment are:\n",
    "\n",
    "[Numpy](https://en.wikipedia.org/wiki/NumPy) for manipulating numerical data.   \n",
    "[Matplotlib](https://en.wikipedia.org/wiki/Matplotlib) for plotting graphics.\n",
    "\n",
    "Explore the links if you want to know more about them! :)\n",
    "\n",
    "Let's start importing!\n",
    "\n",
    "PS: remember that to execute each of the cells with code below, you need to click in the cell and press \"Shift + Enter\""
   ]
  },
  {
   "cell_type": "code",
   "execution_count": 1,
   "metadata": {
    "ExecuteTime": {
     "end_time": "2022-01-17T22:28:18.888712Z",
     "start_time": "2022-01-17T22:28:18.630790Z"
    },
    "id": "NA2nT_F-vB_O"
   },
   "outputs": [],
   "source": [
    "import numpy as np #everytime we want to use a function from numpy, we will put np. before, e.g.: np.array()\n",
    "import matplotlib.pyplot as plt #same for function from matplotlib.pyplot, we will address them with plt. , e.g.: plt.plot()"
   ]
  },
  {
   "cell_type": "markdown",
   "metadata": {
    "id": "f8KChA8y-x6z"
   },
   "source": [
    "We imported these two libraries, and we gave them shorter names to simplify our code. From now on, we can use the code contained in the library **numpy** by prefixing it with `np.` (for instance `np.pi` will give us the numerical value of the number $\\pi$), and the code of the library **matplotlib.pyplot** with `plt` (for example: `plt.plot`)"
   ]
  },
  {
   "cell_type": "markdown",
   "metadata": {
    "id": "efSDOve8vB_P"
   },
   "source": [
    "Note that, in the first line of the code, there is some text after a **#**?   \n",
    "This is a **comment**. Comments are really useful if someone else has to read your code. In a Python Notebook comments can come either after **#** in *code cells* or directly in a *markdown cell* which is entirely text (see all cells before this first *code cell*)\n",
    "\n",
    "It will be much easier for other readers (and for you after some time) to understand your code if you comment your codes. \n",
    "**Do not be lazy and comment!**.  \n",
    "\n",
    "[Here](https://stackabuse.com/commenting-python-code/) you have some advice to do it wisely.\n"
   ]
  },
  {
   "cell_type": "markdown",
   "metadata": {
    "id": "Gk18S48qvB_R"
   },
   "source": [
    "### Load the data"
   ]
  },
  {
   "cell_type": "markdown",
   "metadata": {
    "id": "4h_yjenXvB_S"
   },
   "source": [
    "When running data analyses, one of the first things to do is to load the data into our programming environment so we can manipulate it. Data will come in a specific format depending on how it was generated and saved. You will generally need to obtain this information from the person who generated the data.\n",
    "\n",
    "One common format you might get the data in is in a tabular format, with measurements organized in a fixed number of rows and columns (a *matrix*). Let's load one of these datasets.\n",
    "\n",
    "Now, you need to have the file: \"Experiment2_all_subjects.csv\" in the same directory as this file, or else know the exact path to this file. Below, we read the file from the online GitHub repository (using an URL). The line that is commented out shows how to read the file from a local directory.  \n",
    "  \n",
    "***One first question, what is in this file? (Hint: open it in a text editor or in GitHub) ***"
   ]
  },
  {
   "cell_type": "code",
   "execution_count": 2,
   "metadata": {
    "ExecuteTime": {
     "end_time": "2022-01-17T22:28:28.542602Z",
     "start_time": "2022-01-17T22:28:28.519042Z"
    },
    "id": "p4QYIVfFvB_S"
   },
   "outputs": [],
   "source": [
    "#data = np.genfromtxt(\"Experiment2_all_subjects.csv\",skip_header=1) #use the function genfromtxt from numpy to load the contents of the local file\n",
    "data = np.genfromtxt(\"https://raw.githubusercontent.com/wimmerlab/MBC-DataAnalysis/main/A0_PythonBasics/Experiment2_all_subjects.csv\",skip_header=1) #load the file from github"
   ]
  },
  {
   "cell_type": "markdown",
   "metadata": {
    "id": "gtcmnyGzvB_S"
   },
   "source": [
    "If there are no errors.... congratulations! You have imported the data. Let's take a look!"
   ]
  },
  {
   "cell_type": "code",
   "execution_count": 3,
   "metadata": {
    "ExecuteTime": {
     "end_time": "2022-01-17T22:28:29.826144Z",
     "start_time": "2022-01-17T22:28:29.814946Z"
    },
    "id": "NHAhpYh7vB_T"
   },
   "outputs": [
    {
     "data": {
      "text/plain": [
       "array([[ 2.7178544 ,  3.04193315,  2.72776759, -1.60064895,  0.        ],\n",
       "       [ 2.5209284 ,  3.04193315,  2.72776759, -1.60064895,  0.        ],\n",
       "       [ 2.6835947 ,  3.04193315,  2.72776759, -1.60064895,  0.        ],\n",
       "       ...,\n",
       "       [ 2.63155668,  2.55082168,  2.86497515, -1.11437555,  8.        ],\n",
       "       [ 2.65787475,  2.55082168,  2.86497515, -1.11437555,  8.        ],\n",
       "       [ 2.73254659,  2.55082168,  2.86497515, -1.11437555,  8.        ]])"
      ]
     },
     "execution_count": 3,
     "metadata": {},
     "output_type": "execute_result"
    }
   ],
   "source": [
    "data"
   ]
  },
  {
   "cell_type": "markdown",
   "metadata": {
    "id": "FZxw7LyPvB_T"
   },
   "source": [
    "This is a matrix, how could you tell its dimensions (number of rows and colums)?"
   ]
  },
  {
   "cell_type": "markdown",
   "metadata": {
    "id": "3TakLxKWvB_V"
   },
   "source": [
    "Don't worry if you don't know right away... A really important thing you will learn as you are coding is to do \"efficient\" Google searches. \n",
    "Everyone -- including your teachers when creating these templates -- have to search online from time to time when coding.  \n",
    "***Do not get stressed about it!***  \n",
    "At the beginning, it will take a long time to find simple stuff but as you keep coding, you will get used to \n",
    "the language and you will learn what are the keywords you need to use for every search. \n",
    "\n",
    "what if you start by searching: **\"dimensions numpy matrix\"** ??\n",
    "\n",
    "Write the command that results from your search in the next cell:"
   ]
  },
  {
   "cell_type": "code",
   "execution_count": 4,
   "metadata": {
    "ExecuteTime": {
     "end_time": "2022-01-17T22:28:31.557408Z",
     "start_time": "2022-01-17T22:28:31.551090Z"
    },
    "id": "NTAMI1gkvB_V"
   },
   "outputs": [
    {
     "data": {
      "text/plain": [
       "(857, 5)"
      ]
     },
     "execution_count": 4,
     "metadata": {},
     "output_type": "execute_result"
    }
   ],
   "source": [
    "np.shape(data)\n",
    "# Alternatively, you can write:\n",
    "#data.shape"
   ]
  },
  {
   "cell_type": "markdown",
   "metadata": {
    "id": "0f-NnGEgB6pR"
   },
   "source": [
    "Now let's see if you did it right. Here is a little check that we can have our program do on our data using the command `assert`. This is useful to **debug** our code, when we want to check that things are as we want them to be in the process of developing the code. In our course, we will use this also to give you feedback as to whether you are generating reasonable code or if there is some error to correct. Try it now by replacing the placeholder **???** in the cell below with your answer for getting the matrix dimensions (cell above). Then execute the cell with *Shift + Enter*"
   ]
  },
  {
   "cell_type": "code",
   "execution_count": 5,
   "metadata": {
    "ExecuteTime": {
     "end_time": "2022-01-17T22:28:33.362398Z",
     "start_time": "2022-01-17T22:28:33.357673Z"
    },
    "id": "oxdMgVM7BuL8"
   },
   "outputs": [],
   "source": [
    "assert np.shape(data)[0]==857"
   ]
  },
  {
   "cell_type": "markdown",
   "metadata": {
    "id": "s8zvDVUYC4iv"
   },
   "source": [
    "If you did not get any output back, then you are good. If you did get a warning, then your code has some problem."
   ]
  },
  {
   "cell_type": "markdown",
   "metadata": {
    "id": "wQj_3D_5vB_V"
   },
   "source": [
    "### Subsetting "
   ]
  },
  {
   "cell_type": "markdown",
   "metadata": {
    "id": "5JqPZPPPDFYU"
   },
   "source": [
    "A fundamental operation we will need to do on our data is to select parts of the data, some rows or some columns, to operate specifically on them. This selection of a subset of our data is what we call *subsetting*."
   ]
  },
  {
   "cell_type": "markdown",
   "metadata": {
    "id": "3Rlwxp8WvB_V"
   },
   "source": [
    "Just to get used to it, ***extract the first 10 rows of the 1st and 2nd column*** of your array **data**.   \n",
    "Be careful, in Python the numbers start at 0, so the first row has the index 0.  \n",
    "You can google by yourself how to do it or use [this](https://jakevdp.github.io/PythonDataScienceHandbook/02.02-the-basics-of-numpy-arrays.html) online handbook.   \n",
    "Write the solution in the next cell.  "
   ]
  },
  {
   "cell_type": "code",
   "execution_count": 6,
   "metadata": {
    "ExecuteTime": {
     "end_time": "2022-01-17T22:28:35.692122Z",
     "start_time": "2022-01-17T22:28:35.682108Z"
    },
    "id": "MiA52d7ZvB_W"
   },
   "outputs": [
    {
     "data": {
      "text/plain": [
       "array([[2.7178544 , 3.04193315],\n",
       "       [2.5209284 , 3.04193315],\n",
       "       [2.6835947 , 3.04193315],\n",
       "       [2.71224531, 3.04193315],\n",
       "       [2.56505983, 3.04193315],\n",
       "       [2.5716348 , 3.04193315],\n",
       "       [2.63708194, 3.04193315],\n",
       "       [0.56622746, 0.54993331],\n",
       "       [0.52769291, 0.54993331],\n",
       "       [0.58903673, 0.54993331]])"
      ]
     },
     "execution_count": 6,
     "metadata": {},
     "output_type": "execute_result"
    }
   ],
   "source": [
    "data[:10,:2]"
   ]
  },
  {
   "cell_type": "markdown",
   "metadata": {
    "id": "pEMvi9xuvB_W"
   },
   "source": [
    "But, what are these numbers? Well, you will explore them in depth in the next assignments.   \n",
    "For now, we are just practicing basic skills, so it is enough to know that this is a psychophysics dataset of a working memory task where subjects had to remember spatial locations in a circle.   \n",
    "Each row is one ***trial***, the first column contains the ***responses*** and the second column the ***targets***.  \n",
    "Their units are [radians](https://en.wikipedia.org/wiki/Radian). \n",
    "***What is the range of these measurements: (0,-2$\\pi$), (-$\\pi$, $\\pi$), (-2$\\pi$, 0),...,?***  \n",
    "Hint: google for minimum and maximum values\n"
   ]
  },
  {
   "cell_type": "code",
   "execution_count": 7,
   "metadata": {
    "ExecuteTime": {
     "end_time": "2022-01-17T22:28:36.667153Z",
     "start_time": "2022-01-17T22:28:36.660580Z"
    },
    "id": "rs5mqzvVvB_W"
   },
   "outputs": [
    {
     "name": "stdout",
     "output_type": "stream",
     "text": [
      "min: -3.0655066332687073 max: 3.141592653589793\n"
     ]
    }
   ],
   "source": [
    "print(\"min:\",np.min(data[:,0]),\"max:\",np.max(data[:,0]))"
   ]
  },
  {
   "cell_type": "markdown",
   "metadata": {
    "id": "yuCnWIATvB_X"
   },
   "source": [
    "### Subsetting booleans"
   ]
  },
  {
   "cell_type": "markdown",
   "metadata": {
    "id": "xzCi8nVUvB_X"
   },
   "source": [
    "Sometimes it is convenient to use [booleans](). \n",
    "This is typically just another Python array but, instead of containing numbers, it contains True and False. If you use a boolean to index another array you just get the values of this array that correspond to True values in the boolean.  \n",
    "For example:\n",
    "\n",
    "```\n",
    "matrix=np.array([1,2,3,4])\n",
    "boolean=np.array([True, False, True, True])\n",
    "```\n",
    "\n",
    "If you apply the boolean to index the matrix this way\n",
    "```\n",
    "matrix[boolean]\n",
    "```\n",
    "you get:\n",
    "```\n",
    "array([1, 3, 4])\n",
    "```\n",
    "\n",
    "A boolean is something really simple to create, you just need to specify a [condition](https://www.w3schools.com/python/python_conditions.asp), for instance:\n",
    "\n",
    "```\n",
    "matrix=np.array([1,1,2,2])\n",
    "boolean = matrix==2\n",
    "```\n",
    "(notice the difference between \"***=***\", an assignment, and \"***==***\", a condition)\n",
    "\n",
    "The boolean then will be:\n",
    "\n",
    "```\n",
    "array([False, False,  True,  True])\n",
    "```\n",
    "which indicates in what positions of array **matrix** the condition **==2** is satisfied"
   ]
  },
  {
   "cell_type": "markdown",
   "metadata": {
    "id": "W_qd39GivB_X"
   },
   "source": [
    "Let's now try this hands-on!\n",
    "\n",
    "The 5th column of the matrix contains an integer number that identifies each specific subject that participated in the study. Let's now create a few new [variables](https://realpython.com/python-variables/) : \n",
    "\n",
    "1.   Create the variable `nsubs` with the number of subjects that performed this task (Hint: Google **\"python unique\"**)\n",
    "2.   Create the boolean `bool7` to mark the rows obtained from Subject #7\n",
    "3.   Using `bool7` create the variable `subj7` that includes only the specific data of Subject #7\n"
   ]
  },
  {
   "cell_type": "code",
   "execution_count": 8,
   "metadata": {
    "ExecuteTime": {
     "end_time": "2022-01-17T22:28:39.101299Z",
     "start_time": "2022-01-17T22:28:39.087732Z"
    },
    "id": "hfPeEFKTvB_X"
   },
   "outputs": [],
   "source": [
    "nsubs = len(np.unique(data[:,4]))\n",
    "bool7 = data[:,4] == 7\n",
    "subj7 = data[bool7,:]"
   ]
  },
  {
   "cell_type": "code",
   "execution_count": 9,
   "metadata": {
    "ExecuteTime": {
     "end_time": "2022-01-17T22:28:40.053043Z",
     "start_time": "2022-01-17T22:28:40.044544Z"
    }
   },
   "outputs": [
    {
     "data": {
      "text/plain": [
       "(107, 5)"
      ]
     },
     "execution_count": 9,
     "metadata": {},
     "output_type": "execute_result"
    }
   ],
   "source": [
    "np.shape(subj7)"
   ]
  },
  {
   "cell_type": "code",
   "execution_count": 10,
   "metadata": {
    "ExecuteTime": {
     "end_time": "2022-01-17T22:28:40.854177Z",
     "start_time": "2022-01-17T22:28:40.844388Z"
    },
    "id": "KLRDlnxMEser"
   },
   "outputs": [],
   "source": [
    "assert nsubs==9, \"nsubs is incorrect\"\n",
    "assert np.sum(bool7)==107\n",
    "assert np.shape(subj7)[0]==sum(bool7)\n",
    "assert np.shape(subj7)[1]==5"
   ]
  },
  {
   "cell_type": "markdown",
   "metadata": {
    "id": "fikWivJPGpGX"
   },
   "source": [
    "If you ran the previous cell and it did not complain, you did a great job! If not, try running the different ```assert``` commands separately to debug more specifically your problem. **Remember that by preceding a whole sentence with a # you turn it into a comment and it is not executed as code!**"
   ]
  },
  {
   "cell_type": "markdown",
   "metadata": {
    "id": "QyXVjvdCH7fi"
   },
   "source": [
    "By the way, what is ```np.sum(bool7)```?\n",
    "\n"
   ]
  },
  {
   "cell_type": "markdown",
   "metadata": {},
   "source": [
    "<u>Answer</u>: This is the number of trials for this specific subject (because it is a summing one for each line in the boolean array that corresponds to True)."
   ]
  },
  {
   "cell_type": "markdown",
   "metadata": {
    "id": "RHBuyA_JvB_X"
   },
   "source": [
    "### Functions"
   ]
  },
  {
   "cell_type": "markdown",
   "metadata": {
    "id": "3HeDtvLovB_Y"
   },
   "source": [
    "Sometimes, in the libraries that we are using we do not have the specific function that we need.  \n",
    "When that is the case, we have to create it by ourselves.  \n",
    "Suppose, for instance, that we want to calculate the distance between the target and the response to get a measure of error. Distances can often be calculated as a mere difference, but here we are dealing with angles on a circle so that we have to take into account that the circle wraps around. We need a specific function to deal with this.\n",
    "The function will be called ***circdist_rad***.  "
   ]
  },
  {
   "cell_type": "code",
   "execution_count": 11,
   "metadata": {
    "ExecuteTime": {
     "end_time": "2022-01-17T22:28:43.825927Z",
     "start_time": "2022-01-17T22:28:43.820702Z"
    },
    "id": "1FBwZTEEvB_Z"
   },
   "outputs": [],
   "source": [
    "def circdist_rad(angles1,angles2): #define the name and set the arguments between parentheses\n",
    "    output = np.angle(np.exp(1j*(angles1-angles2))) ## mathematical operation to get the circular distance\n",
    "    return output #return the circular distance in radians "
   ]
  },
  {
   "cell_type": "markdown",
   "metadata": {
    "id": "DsmyFLvLvB_Z"
   },
   "source": [
    "In this case, the operation we are performing in the function is quite complex but the structure of the code is very simple. Check it up carefully: the command **def**, the name of the function with arguments within parenthesis, the colon at the end of the line, the indentation for all commands that define the function and finally the **return** command with the result that the function returns. You can learn [here](https://www.tutorialspoint.com/python/python_functions.htm) more about functions in Python.\n",
    "\n",
    "**Now use the circdist_rad function to get the circular distance between target and response**. We will call this **error** as participants were supposed to respond the exact value of the target so any deviation from target is an \"error\".\n",
    "Hint: use the link above and apply the \"calling a function\" to this specific case."
   ]
  },
  {
   "cell_type": "code",
   "execution_count": 12,
   "metadata": {
    "ExecuteTime": {
     "end_time": "2022-01-17T22:28:44.715661Z",
     "start_time": "2022-01-17T22:28:44.694283Z"
    },
    "id": "naypCp2DvB_a"
   },
   "outputs": [
    {
     "data": {
      "text/plain": [
       "array([-3.24078748e-01, -5.21004744e-01, -3.58338444e-01, -3.29687833e-01,\n",
       "       -4.76873317e-01, -4.70298345e-01, -4.04851202e-01,  1.62941508e-02,\n",
       "       -2.22403959e-02,  3.91034187e-02,  6.95403803e-02, -7.36973111e-04,\n",
       "        1.67138707e-01,  1.20690008e-01, -1.62394164e-01, -2.50465935e-01,\n",
       "       -1.10044293e-01, -1.73185832e-02, -4.12584036e-01, -1.50852460e-01,\n",
       "       -1.03837269e-01, -2.49790568e-01, -1.92362495e-01, -1.80017443e-01,\n",
       "       -1.66973906e-01, -1.06368203e-01,  1.80111651e-01,  1.98253560e-01,\n",
       "        3.37503951e-01,  3.12092755e-01,  3.63759044e-01,  3.23051076e-01,\n",
       "        2.10282768e-01,  2.93455270e-01,  2.46585279e-01,  1.06917047e-01,\n",
       "        3.74114275e-01,  1.41189336e-01,  2.47166657e-01,  1.57576593e-02,\n",
       "        4.36424893e-02, -7.04817164e-02, -7.79523041e-02,  2.76423952e-01,\n",
       "        1.42958175e-01,  1.31804461e-02, -2.74399147e-01, -7.79872798e-02,\n",
       "       -1.24157783e-01, -2.39706107e-01,  1.95966756e-01, -1.77090246e-01,\n",
       "        2.02410721e-01,  1.20876195e-01,  5.41060896e-02,  6.34987959e-02,\n",
       "        1.94994935e-01, -1.55352832e-01, -9.04782092e-02, -1.48133216e-01,\n",
       "       -5.89803653e-02, -3.02232758e-01, -1.36008153e-01, -1.47511099e-01,\n",
       "       -1.49261854e-01,  4.88609909e-02,  2.00677125e-01,  1.30576010e-01,\n",
       "       -1.54448747e-02,  2.93522730e-02,  1.35806907e-01,  3.54331370e-01,\n",
       "        2.04394820e-01,  2.58298771e-01,  9.50075911e-02,  1.14176428e-01,\n",
       "        1.14935771e-01,  1.04488524e-01, -9.69830217e-02, -3.75249850e-02,\n",
       "       -1.21711629e-02, -3.51676107e-02,  6.81018527e-02, -4.82906293e-02,\n",
       "        2.78230754e-03, -2.23634866e-02, -1.30083567e-01, -2.25305092e-02,\n",
       "       -6.44438790e-02, -3.95744077e-02, -3.34818084e-02, -4.10088398e-02,\n",
       "       -2.31587709e-01, -2.78912485e-01,  1.51369443e-01,  3.57266902e-01,\n",
       "        1.21351457e-01,  1.73383279e-01,  2.29091914e-01,  2.08755304e-01,\n",
       "       -1.41905519e-02, -5.30703721e-04, -9.56321672e-02,  5.13188018e-02,\n",
       "        9.88685731e-03,  5.09675475e-02,  1.48453238e-01,  3.47187592e-02,\n",
       "        1.20391140e-02,  5.27148083e-02,  5.03533634e-02,  1.94797018e-03,\n",
       "       -1.30285725e-01,  5.88153820e-04,  3.03610532e-02,  1.44711881e-02,\n",
       "        6.85042096e-02,  2.69993337e-02,  1.22832143e-02,  5.77012007e-02,\n",
       "        6.66731090e-02,  3.30753646e-02, -2.08160073e-02,  2.83750467e-02,\n",
       "       -3.47672930e-02, -1.74141824e-01, -7.15575264e-02, -2.18268139e-02,\n",
       "       -1.90327033e-01, -9.62599473e-02, -1.72554967e-01,  9.53013730e-02,\n",
       "       -8.34693709e-02,  1.34870997e-02, -1.54492617e-01, -1.99648730e-01,\n",
       "       -8.95741448e-02, -3.29147855e-01, -4.45119781e-02, -5.90755414e-02,\n",
       "       -2.29817414e-01, -1.51305396e-01, -2.25069238e-01, -1.65152064e-01,\n",
       "       -9.04485533e-02, -2.18129011e-01, -3.52144578e-01, -2.36013730e-01,\n",
       "        7.32502958e-02, -2.53502850e-01, -1.00633002e-01, -7.53507901e-02,\n",
       "       -2.74606845e-01, -1.12834051e-01, -1.08808067e-01, -7.06485435e-02,\n",
       "       -4.92508375e-02,  1.35532593e-01,  1.55119485e-01, -8.67697080e-02,\n",
       "       -3.11525399e-01, -2.12905052e-01, -4.33382345e-02,  3.81871636e-02,\n",
       "        1.36244406e-02,  5.10470442e-02,  2.57320754e-01,  2.40682520e-01,\n",
       "        8.59471060e-02,  4.42722037e-01,  1.69466337e-01,  1.52984313e-01,\n",
       "       -4.75233653e-02, -6.20753525e-02,  4.91940614e-02,  8.47120436e-02,\n",
       "       -9.93519433e-02,  1.25678604e-01, -1.32740027e-01,  1.14024763e-02,\n",
       "       -3.38598086e-01, -2.74105828e-02, -2.16104810e-01, -1.85131302e-01,\n",
       "       -7.28677128e-04,  8.10139390e-02,  5.57571872e-02, -1.71340432e-01,\n",
       "       -7.62571539e-02, -2.66829825e-01, -2.15782461e-02, -1.93139770e-02,\n",
       "       -1.96055454e-01,  9.57580485e-02, -8.83168246e-02,  1.17707553e-01,\n",
       "       -8.36411027e-02, -2.02635362e-01, -6.48012049e-02,  1.64876948e-01,\n",
       "        9.71971155e-02,  3.12503100e-01,  2.07421307e-02,  1.06008811e-01,\n",
       "        1.96556858e-01,  1.68996657e-02,  2.57978553e-01,  2.16089632e-01,\n",
       "        4.05506917e-01,  1.47640250e-01, -3.77911383e-01, -5.17237290e-02,\n",
       "       -3.81350319e-01, -1.84988197e-01, -1.72640858e-01, -2.84741915e-01,\n",
       "       -1.12442873e-01, -5.18835382e-02, -2.58446714e-01, -2.58523980e-01,\n",
       "        4.79254538e-03, -1.07197024e-01,  1.12226558e-01,  3.77019747e-02,\n",
       "       -6.41784973e-02, -8.96125383e-02, -4.38773680e-02, -3.24533411e-01,\n",
       "       -1.30919021e-01, -1.53969568e-01,  7.92363935e-02, -1.66260590e-01,\n",
       "       -2.56878643e-01, -1.36020236e-01,  4.92308858e-02, -6.44853728e-02,\n",
       "        1.19058561e-02,  7.82829195e-02,  1.05885199e-01,  8.85603992e-03,\n",
       "       -5.36690630e-02,  8.78627175e-02,  3.39613352e-02,  1.29197709e-01,\n",
       "        1.89364052e-01, -2.75170391e-01, -1.90528334e-01, -4.52784808e-02,\n",
       "       -8.13999935e-02, -7.28033778e-02,  3.12172080e-02,  2.67419249e-01,\n",
       "        4.29849426e-02, -3.96193684e-02, -7.24647423e-02, -5.12311425e-02,\n",
       "       -4.15282588e-02, -1.07422084e-01,  4.09400589e-02, -3.49392790e-02,\n",
       "       -2.81256899e-01,  5.86213469e-02,  3.44065574e-02, -9.56021887e-02,\n",
       "        1.20819666e-01, -1.39479609e-03, -4.53915430e-02, -2.27416251e-02,\n",
       "        1.25052981e-01, -8.66417563e-03,  6.61068929e-02,  6.31183307e-02,\n",
       "       -3.61815498e-02, -6.72080959e-02,  1.54766794e-01,  1.15909290e-01,\n",
       "        1.47017312e-01,  1.33409109e-01,  3.60255722e-01,  2.41867901e-01,\n",
       "        9.64689876e-02, -6.81010405e-02, -1.69438121e-01,  1.92843078e-01,\n",
       "        2.96098110e-01, -2.44516129e-02, -3.12335023e-02, -2.59018909e-01,\n",
       "       -4.67112708e-01,  1.95726829e-02, -1.25764905e-01,  2.51675588e-01,\n",
       "        3.46015539e-01, -2.64359943e-02,  1.08114148e-01,  5.98094521e-02,\n",
       "        1.24472400e-01,  9.28715125e-02,  2.69843950e-03,  6.77887320e-02,\n",
       "        7.76361033e-03, -2.26339696e-01,  4.05470950e-01, -1.95376607e-01,\n",
       "       -1.14265500e-01, -4.21706237e-01, -8.13351827e-03, -8.40991301e-02,\n",
       "       -2.37984274e-01, -1.44286908e-01,  3.39147812e-01, -1.38128909e-01,\n",
       "       -1.49394642e-01,  2.72669074e-01,  2.63472050e-03,  7.52504386e-02,\n",
       "       -3.15164100e-02,  2.57651037e-01,  3.90029240e-01,  2.00066273e-01,\n",
       "        6.62155566e-03, -7.58962666e-02, -1.44184712e-01, -1.35736126e-02,\n",
       "       -9.87321928e-02, -2.74904322e-01, -9.44806392e-02, -2.11526331e-01,\n",
       "       -4.93098486e-01,  1.75242739e-01, -1.95859336e-01, -2.42272127e-01,\n",
       "       -6.70804079e-02,  4.11998021e-01, -5.89124691e-02,  2.26885441e-01,\n",
       "       -8.96261438e-02,  1.00162110e-01, -4.62308556e-02,  2.50507021e-01,\n",
       "       -1.97572597e-01, -2.89635709e-01,  3.13056224e-01, -1.78820791e-01,\n",
       "       -1.63190217e-01,  2.83307381e-02, -1.54219476e-02, -2.77758068e-01,\n",
       "        7.44014081e-03,  2.42403262e-02,  1.72240172e-01, -1.82467525e-01,\n",
       "       -6.59591526e-02,  6.39026002e-02, -5.04667444e-01,  4.34569545e-02,\n",
       "       -8.14814162e-02,  5.33841402e-02,  9.06216493e-03,  4.83932204e-02,\n",
       "        1.17179671e-01,  1.53360190e-02,  1.83734487e-02, -7.35028716e-02,\n",
       "        7.88592031e-02,  9.34772429e-03,  6.70792727e-02, -1.62617593e-02,\n",
       "       -5.71745891e-02,  4.47412506e-02, -5.92807360e-02, -8.52545250e-03,\n",
       "       -1.89319800e-02, -1.53922421e-01,  1.11681307e-01,  4.89807028e-02,\n",
       "        8.88027740e-02, -3.79247026e-01, -2.95199001e-01,  5.76163715e-02,\n",
       "       -6.93852320e-02,  6.00212822e-02,  2.71294509e-02,  3.12181408e-02,\n",
       "        3.75243537e-02, -1.68903659e-01,  2.23201461e-02, -6.77641243e-02,\n",
       "        8.06574982e-02, -4.54978113e-01, -6.14747095e-01, -2.21383879e-01,\n",
       "        1.42978248e-01, -2.52478528e-01, -1.93756827e-01, -1.36865011e-01,\n",
       "       -5.74700156e-03, -1.80855427e-02, -5.84608170e-02, -6.47448325e-03,\n",
       "        1.78549443e-01, -1.98848209e-01,  1.52853376e-01, -1.45163203e-01,\n",
       "        5.08217440e-03,  3.06800320e-02, -1.94530602e-01, -1.17165164e-01,\n",
       "        3.11750666e-02, -1.61485890e-01, -6.01262529e-02, -2.19580169e-01,\n",
       "       -8.14813331e-01, -8.48961287e-02, -6.22052651e-02,  1.81294507e-02,\n",
       "       -3.33454407e-02, -1.60523154e-01, -2.04660754e-03,  1.96607147e-01,\n",
       "       -2.01523566e-02, -7.93870193e-02,  1.24174380e-01,  9.29830310e-02,\n",
       "        1.56501671e-02, -1.88856174e-02,  1.26490471e-01, -3.29256209e-01,\n",
       "       -1.03058164e-01,  1.01825873e-01, -9.88378466e-02,  9.62734447e-03,\n",
       "       -1.27584774e-01, -4.63542059e-02, -2.26447432e-01,  1.06990047e-02,\n",
       "       -7.47256442e-02, -2.70664063e-02, -6.15414669e-02, -1.61154631e-01,\n",
       "       -3.00135505e-02, -6.83219032e-02, -7.49244219e-02, -2.62664405e-01,\n",
       "       -7.44162919e-02, -1.37490410e-01, -1.31066963e-02, -1.86448435e-01,\n",
       "        7.15444254e-03,  6.56865296e-02, -2.67501652e-01, -8.39852410e-02,\n",
       "       -5.75138252e-02, -1.64397396e-02, -1.38352380e-01,  2.53944196e-02,\n",
       "       -1.02207304e-02, -6.59303715e-02,  3.89870397e-02, -2.09781908e-02,\n",
       "       -1.01293828e-01, -1.74766179e-01,  3.97374560e-02,  5.81206766e-02,\n",
       "       -9.92568492e-02, -1.80335326e-01, -2.36373014e-01, -1.26138318e-01,\n",
       "       -2.38785667e-01, -1.37384384e-01, -3.81284176e-02, -3.03290322e-01,\n",
       "        6.52857064e-03, -1.79414914e-01,  6.43732561e-03, -3.95925454e-02,\n",
       "        9.23524363e-02, -1.70883066e-02, -6.63554044e-02, -1.80815062e-01,\n",
       "       -1.86964634e-01, -1.54816876e-01, -1.52616314e-01, -5.13286613e-02,\n",
       "       -1.63043382e-01, -7.16756442e-02, -3.86593733e-02,  3.86823185e-02,\n",
       "       -6.60558318e-02,  1.45137959e-01, -3.93961283e-02, -3.24477179e-02,\n",
       "       -1.44618043e-01, -2.58454876e-01, -1.87982242e-02, -1.02496029e-01,\n",
       "        4.18216140e-02, -6.79648067e-02, -6.71323214e-02, -1.00195302e-01,\n",
       "       -4.18877279e-02, -9.80243951e-02,  1.59295774e-01,  8.60133469e-03,\n",
       "        1.71406820e-01, -8.64309018e-02, -9.86881571e-02,  6.17082690e-02,\n",
       "       -6.72025027e-02,  4.34547185e-02,  2.36601415e-02,  1.24571253e-01,\n",
       "        7.26932839e-02,  1.73808967e-01,  1.02409562e-01,  2.05248890e-01,\n",
       "        1.48920062e-01,  1.01814548e-01,  7.20927795e-04,  7.90463521e-02,\n",
       "        5.17370333e-02,  1.30234714e-01,  2.94028327e-01,  1.38432030e-01,\n",
       "        2.35825849e-01,  1.30332260e-02, -3.40126749e-02, -7.06566537e-02,\n",
       "        8.30696526e-02, -9.47316033e-02, -4.62969864e-02, -6.11021833e-02,\n",
       "       -2.77931485e-01, -2.41963691e-02,  1.05139652e-01, -2.59739952e-02,\n",
       "       -3.66244319e-02,  3.47790465e-01,  1.65731726e-01,  7.37752180e-02,\n",
       "       -3.37440128e-02,  1.41386785e-01,  5.61298671e-03,  3.73269267e-02,\n",
       "        9.26741999e-02,  1.42740298e-01,  1.27333875e-01,  1.65156173e-02,\n",
       "       -7.66549959e-02,  1.89812334e-02, -1.82475620e-01, -2.59674899e-01,\n",
       "       -1.36768129e-01, -1.06424964e-01, -9.70562471e-02, -1.01859430e-01,\n",
       "       -3.13611064e-01, -2.38812724e-01, -1.51088247e-01, -1.23558123e-01,\n",
       "       -1.26032355e-01, -1.41056585e-01, -6.56300525e-02, -1.67809470e-01,\n",
       "        2.21990366e-02, -1.28016971e-01,  4.07460994e-02, -2.45774581e-01,\n",
       "       -8.06974869e-02, -2.09730749e-01, -2.57861974e-02,  3.66265098e-03,\n",
       "        2.63077208e-02,  8.19008169e-02,  7.57760966e-02,  6.24463854e-02,\n",
       "        5.22244663e-02,  1.11951150e-01,  5.78116124e-02,  1.37496569e-01,\n",
       "        5.58736935e-02,  1.12331234e-01,  1.49661185e-01, -2.99150198e-02,\n",
       "        3.82618942e-02,  8.42764015e-02, -1.11112762e-01, -4.35474253e-02,\n",
       "        4.33205609e-02, -1.54212441e-01,  8.94162331e-02,  1.23883910e-02,\n",
       "       -7.23397813e-02,  3.28643290e-02,  9.61853605e-02, -4.05034079e-02,\n",
       "        1.60254949e-01,  1.16420693e-01, -1.54457693e-02, -4.19125616e-02,\n",
       "       -2.56278097e-02,  3.69279319e-02, -1.21014045e-01,  2.57093879e-02,\n",
       "        5.00618123e-02, -1.73451881e-02,  7.34252779e-02,  8.58125031e-03,\n",
       "        6.50258291e-02,  2.33651194e-02, -3.81760893e-02,  1.23969365e-01,\n",
       "        9.61008388e-02,  2.76785191e-02, -1.24627226e-02,  1.01394437e-01,\n",
       "        1.00498818e-01,  9.43404211e-02,  1.24845515e-01,  4.30048760e-02,\n",
       "        9.98533562e-02, -7.27434755e-03, -4.05299799e-03, -8.00712169e-02,\n",
       "       -1.90227320e-01, -4.29189779e-02,  1.08268686e-03, -5.76731359e-02,\n",
       "       -8.60675134e-02, -3.27306996e-02, -5.14686742e-02, -1.90932644e-01,\n",
       "        1.28219471e-02,  4.76385250e-02,  3.14063888e-02, -1.08358264e-01,\n",
       "        1.74796585e-01,  8.41506838e-03, -6.38127378e-02, -4.72263936e-03,\n",
       "        2.96130697e-02,  8.82473878e-02, -9.48861377e-03,  1.50633961e-01,\n",
       "        9.00520777e-02,  1.05935319e-01, -2.30014696e-01, -1.03976253e-01,\n",
       "       -1.39094481e-01,  4.09320173e-02, -6.51545726e-02, -2.20613396e-03,\n",
       "       -9.52785594e-02,  1.46776103e-02, -7.87583233e-02, -4.49213190e-03,\n",
       "       -1.17913970e-01, -4.37506068e-02, -3.30174480e-01, -2.39005222e-01,\n",
       "       -1.73155145e-01, -5.36145852e-03, -8.00893660e-02,  1.23077583e-01,\n",
       "        2.01435707e-01, -8.23558354e-02,  3.00930456e-01, -1.01884987e-01,\n",
       "       -7.75251347e-02, -1.71166620e-01,  4.51455662e-02,  1.47049974e-01,\n",
       "        1.74755607e-01,  3.70445746e-02,  1.14742639e-02,  2.08677116e-02,\n",
       "       -5.56962651e-02, -6.31002020e-02, -1.58769209e-01,  8.38891679e-02,\n",
       "       -2.11987688e-02, -6.78328977e-02,  2.14457046e-01, -6.47673813e-02,\n",
       "       -1.84346921e-01, -2.48284411e-01,  3.19382218e-01, -2.05412350e-01,\n",
       "       -2.25279943e-01, -1.44216263e-01, -1.59235656e-01, -1.37898566e-01,\n",
       "       -1.13511673e-01, -1.18976100e-01, -3.82778287e-02, -2.46038549e-01,\n",
       "       -2.21315021e-01, -8.02570036e-02,  3.76097449e-03,  2.23579521e-01,\n",
       "       -5.17042596e-03,  4.18197224e-02, -1.37093200e-02,  6.51931770e-02,\n",
       "        1.47136867e-01, -2.19393486e-02,  5.45383854e-02,  2.89287856e-03,\n",
       "       -2.16568291e-01,  6.21160399e-02, -6.15174943e-02,  2.34352005e-02,\n",
       "       -7.49162850e-02, -9.51080420e-03, -2.04279062e-01, -1.18848573e-01,\n",
       "        3.52190728e-02, -1.65938106e-01, -9.68747473e-02,  1.08546782e-01,\n",
       "        2.60935552e-01, -5.64257992e-02, -1.12879854e-01, -1.75603921e-02,\n",
       "       -2.99777968e-01, -6.46982729e-02,  3.53668980e-03, -1.32062260e-01,\n",
       "       -1.15340716e-01, -2.46717184e-01, -1.15039294e-01, -1.33640677e-01,\n",
       "       -6.09324777e-02, -1.40542651e-01,  1.37315076e-01,  2.03088876e-02,\n",
       "        1.26096814e-01, -1.03110339e-01, -2.62715622e-01, -8.85818458e-02,\n",
       "       -2.66730587e-02, -9.06569764e-02, -8.03316375e-02, -4.90858680e-02,\n",
       "       -1.54710429e-01,  9.93876905e-02,  9.87080350e-02, -2.76858897e-01,\n",
       "       -1.42991842e-01,  5.04479265e-02,  3.48582424e-02, -9.04693475e-02,\n",
       "        2.52870897e-02,  1.28690409e-02, -3.33885566e-02, -1.43961217e-01,\n",
       "       -4.19038390e-02, -2.11112799e-01,  1.80960298e-02,  1.93959458e-02,\n",
       "        1.28802735e-01, -1.11015299e-01, -1.48201554e-02, -1.06294824e-01,\n",
       "        2.89521096e-02,  2.50014240e-04,  4.05453168e-03,  7.88241657e-02,\n",
       "       -8.30701422e-02, -1.54404926e-01, -1.27122621e-01, -2.48506626e-01,\n",
       "        6.99260440e-02,  1.86380604e-01,  1.02773757e-01,  2.01129661e-01,\n",
       "        8.91863657e-02, -2.13194354e-02,  1.13432781e-01, -6.59578272e-02,\n",
       "        4.52074954e-02, -1.44912561e-02,  1.08138483e-01,  8.44243833e-02,\n",
       "        6.23797723e-02,  4.67879020e-02,  6.74810390e-02,  4.67188292e-02,\n",
       "        5.05294249e-02, -5.93640835e-02,  2.77907557e-02,  2.13679574e-02,\n",
       "        6.86442413e-02, -1.66334755e-01, -4.31359408e-02,  9.28904809e-02,\n",
       "        4.97756854e-02, -1.76973669e-01, -9.63449096e-02, -6.95991645e-02,\n",
       "       -3.36317590e-02,  7.58906649e-03, -5.54115906e-02, -1.80395418e-03,\n",
       "        7.27458726e-04,  3.24173512e-02, -1.06689181e-01, -5.60084914e-02,\n",
       "       -3.51585840e-02, -1.10930763e-01, -4.37039938e-02,  6.72915126e-02,\n",
       "       -3.82566852e-02,  3.85553731e-02,  1.49190696e-01,  1.90690623e-01,\n",
       "       -1.08822640e-01, -5.00058811e-02, -2.21348281e-01, -2.73516223e-01,\n",
       "       -1.30758398e-01, -2.23365127e-02, -6.54798954e-02,  1.21336389e-01,\n",
       "        1.10207689e-01, -1.26291646e-02,  3.82382450e-02,  8.15086152e-02,\n",
       "        7.81236290e-02, -9.77104531e-02, -2.29805062e-01, -1.46438129e-01,\n",
       "       -2.04466838e-02,  2.61148699e-02,  1.27307340e-02,  1.14113754e-01,\n",
       "        5.18307665e-02, -1.89651156e-01, -3.76795271e-02,  1.43450545e-01,\n",
       "       -8.51953944e-02,  7.54021180e-04, -6.16647888e-02,  5.05819805e-02,\n",
       "       -7.53301668e-02, -1.38666218e-01, -2.05125340e-01,  2.29120895e-04,\n",
       "        2.85915270e-02,  1.83582155e-02, -1.36807388e-02, -5.43343508e-02,\n",
       "        3.87101339e-02, -1.15562755e-01,  8.07350082e-02,  1.07053072e-01,\n",
       "        1.81724913e-01])"
      ]
     },
     "execution_count": 12,
     "metadata": {},
     "output_type": "execute_result"
    }
   ],
   "source": [
    "circdist_rad(data[:,0], data[:,1])"
   ]
  },
  {
   "cell_type": "markdown",
   "metadata": {
    "id": "LyxsN_yIvB_a"
   },
   "source": [
    "The circular distance between the target and the response (error) could be a really useful measure to add to our matrix, right? That way we do not need to calculate it everytime.  \n",
    "\n",
    "**Now try to add it as an extra column to the matrix**  *data* using the command `np.column_stack`.\n",
    "You already have the tools to start flying alone (google, matrix subsetting, intuition...)!   \n",
    "Do not be afraid! Try things!  \n",
    "Let the \"I am going to mess it up fear\" go away! If, by any weird chance, you \"destroy\" your matrix, you just have to go to the top of this page and run everyting again, it will just take 1 second! Try it now."
   ]
  },
  {
   "cell_type": "code",
   "execution_count": 13,
   "metadata": {
    "ExecuteTime": {
     "end_time": "2022-01-17T22:28:46.531503Z",
     "start_time": "2022-01-17T22:28:46.525933Z"
    },
    "id": "7fyFSs88vB_b"
   },
   "outputs": [],
   "source": [
    "data = np.column_stack( (data, circdist_rad(data[:,0], data[:,1]) ) )"
   ]
  },
  {
   "cell_type": "code",
   "execution_count": 14,
   "metadata": {
    "ExecuteTime": {
     "end_time": "2022-01-17T22:28:47.196004Z",
     "start_time": "2022-01-17T22:28:47.190695Z"
    },
    "id": "iLbTrFi7KXgX"
   },
   "outputs": [],
   "source": [
    "assert data.shape[1]==6"
   ]
  },
  {
   "cell_type": "markdown",
   "metadata": {
    "id": "1PROUGyuvB_b"
   },
   "source": [
    "Great! Now you have one more column in your data array, which contains the angular error of responses in each trial. This is the last column of your array, and you can address that with the index \"-1\" in Python, so now **data[:,-1]** contains the values in **error**"
   ]
  },
  {
   "cell_type": "markdown",
   "metadata": {
    "id": "Okm4wLQdvB_b"
   },
   "source": [
    "### Plotting"
   ]
  },
  {
   "cell_type": "markdown",
   "metadata": {
    "id": "EeIatp-BvB_b"
   },
   "source": [
    "Let's see how the errors look like!  \n",
    "According to the literature they should follow a [Gaussian](https://en.wikipedia.org/wiki/Normal_distribution) distribution around 0.  \n",
    "The visualization tool that best fits what we need is a [histogram](https://en.wikipedia.org/wiki/Histogram).  \n",
    "Use matplotlib to plot a [histogram](https://matplotlib.org/3.3.3/api/_as_gen/matplotlib.pyplot.hist.html) of the new column of your matrix.\n",
    "It would be nice if you could also plot a red vertical line at the mean value of errors and see if the results are in line with the assumption.  \n",
    " \n"
   ]
  },
  {
   "cell_type": "code",
   "execution_count": 15,
   "metadata": {
    "ExecuteTime": {
     "end_time": "2022-01-17T22:28:50.223890Z",
     "start_time": "2022-01-17T22:28:49.943220Z"
    },
    "id": "dXzDQOelvB_b",
    "scrolled": true
   },
   "outputs": [
    {
     "data": {
      "image/png": "[encoded data removed]",
      "text/plain": [
       "<Figure size 640x480 with 1 Axes>"
      ]
     },
     "metadata": {},
     "output_type": "display_data"
    }
   ],
   "source": [
    "plt.hist(data[:,-1],100);\n",
    "plt.axvline(np.mean(data[:,-1]),color='red');"
   ]
  },
  {
   "cell_type": "markdown",
   "metadata": {
    "id": "FSE3w4qZvB_b"
   },
   "source": [
    "### For loop"
   ]
  },
  {
   "cell_type": "markdown",
   "metadata": {
    "id": "DttBppekvB_c"
   },
   "source": [
    "Now you will learn a really powerful tool: the ***for loop***.   \n",
    "This tool allows you to make iterations, so you can run the same commands, over and over again without \n",
    "having to write new code for each iteration.  \n",
    "\n",
    "Check out the next two cells to understand why this is so useful:"
   ]
  },
  {
   "cell_type": "code",
   "execution_count": 16,
   "metadata": {
    "ExecuteTime": {
     "end_time": "2022-01-17T22:29:10.998292Z",
     "start_time": "2022-01-17T22:29:10.989789Z"
    },
    "id": "zCLZsWkfvB_d"
   },
   "outputs": [
    {
     "name": "stdout",
     "output_type": "stream",
     "text": [
      "orange\n",
      "apple\n",
      "banana\n",
      "tomato\n",
      "lime\n",
      "lemon\n"
     ]
    }
   ],
   "source": [
    "# print all the values in a list without using a for loop\n",
    "fruits=['orange', 'apple', 'banana', 'tomato', 'lime', 'lemon']\n",
    "print(fruits[0])\n",
    "print(fruits[1])\n",
    "print(fruits[2])\n",
    "print(fruits[3])\n",
    "print(fruits[4])\n",
    "print(fruits[5])"
   ]
  },
  {
   "cell_type": "code",
   "execution_count": 17,
   "metadata": {
    "ExecuteTime": {
     "end_time": "2022-01-17T22:29:11.918130Z",
     "start_time": "2022-01-17T22:29:11.911799Z"
    },
    "id": "9eX6eSnGvB_d"
   },
   "outputs": [
    {
     "name": "stdout",
     "output_type": "stream",
     "text": [
      "orange\n",
      "apple\n",
      "banana\n",
      "tomato\n",
      "lime\n",
      "lemon\n"
     ]
    }
   ],
   "source": [
    "# print all the values in a list using a for loop\n",
    "for f in fruits:\n",
    "    print(f)"
   ]
  },
  {
   "cell_type": "markdown",
   "metadata": {
    "id": "-BjPdVHzvB_f"
   },
   "source": [
    "You can easily see that **the second cell is a much more efficient way to code**. It is not only shorter, but it is less error-prone. Errors in the code (**bugs**) are the worst nightmare of a data analyst. Again, note the **indentation** of the line containing `print(f)`. Try removing the indenting spaces. Can you then run that cell?\n",
    "\n",
    "In this case one only needs to write 6 lines of code for the first cell to get all the fruits, but what if we had 1,000 fruits?... Then we would have had to write 1,000 lines!.\n",
    "On the other hand, in the second cell we just needed two lines of code, both for 6 and 1,000 fruits. \n",
    "Everytime you see yourself repeating the same code just to change a small detail, remember you can use [for loops](https://www.w3schools.com/python/python_for_loops.asp)\n"
   ]
  },
  {
   "cell_type": "markdown",
   "metadata": {
    "id": "VfdtkB30vB_f"
   },
   "source": [
    "Let's use the foor loop in our dataset! \n",
    "***Make the error histogram for each subject***  \n",
    "\n",
    "Hint 1: Take advantage of the code you used before to get the data of Subject #7, and now generalize to all other subjects.  \n",
    "\n",
    "Hint 2: To iterate through subjects you need to get the list of indexes for the subjects. To get that list you can use [`np.unique()`](https://docs.scipy.org/doc/numpy/reference/generated/numpy.unique.html) if you are not sure about how many subjects there are, or else use [`np.arange()`](https://docs.scipy.org/doc/numpy/reference/generated/numpy.arange.html) to get a range of values. Now you are ready to start your for loop.\n",
    "\n",
    "Hint 3: write: `plt.figure()` at the beginning of every iteration so you generate one histogram for each subject.\n",
    "\n",
    "Hint 4: Remember to enter 4 indenting spaces in front of the commands within the for loop!\n"
   ]
  },
  {
   "cell_type": "code",
   "execution_count": 18,
   "metadata": {
    "ExecuteTime": {
     "end_time": "2022-01-17T22:29:20.328831Z",
     "start_time": "2022-01-17T22:29:19.476080Z"
    },
    "id": "ndyDfBR2vB_f",
    "scrolled": false
   },
   "outputs": [
    {
     "data": {
      "image/png": "[encoded data removed]",
      "text/plain": [
       "<Figure size 640x480 with 1 Axes>"
      ]
     },
     "metadata": {},
     "output_type": "display_data"
    },
    {
     "data": {
      "image/png": "[encoded data removed]",
      "text/plain": [
       "<Figure size 640x480 with 1 Axes>"
      ]
     },
     "metadata": {},
     "output_type": "display_data"
    },
    {
     "data": {
      "image/png": "[encoded data removed]",
      "text/plain": [
       "<Figure size 640x480 with 1 Axes>"
      ]
     },
     "metadata": {},
     "output_type": "display_data"
    },
    {
     "data": {
      "image/png": "[encoded data removed]",
      "text/plain": [
       "<Figure size 640x480 with 1 Axes>"
      ]
     },
     "metadata": {},
     "output_type": "display_data"
    },
    {
     "data": {
      "image/png": "[encoded data removed]",
      "text/plain": [
       "<Figure size 640x480 with 1 Axes>"
      ]
     },
     "metadata": {},
     "output_type": "display_data"
    },
    {
     "data": {
      "image/png": "[encoded data removed]",
      "text/plain": [
       "<Figure size 640x480 with 1 Axes>"
      ]
     },
     "metadata": {},
     "output_type": "display_data"
    },
    {
     "data": {
      "image/png": "[encoded data removed]",
      "text/plain": [
       "<Figure size 640x480 with 1 Axes>"
      ]
     },
     "metadata": {},
     "output_type": "display_data"
    },
    {
     "data": {
      "image/png": "[encoded data removed]",
      "text/plain": [
       "<Figure size 640x480 with 1 Axes>"
      ]
     },
     "metadata": {},
     "output_type": "display_data"
    },
    {
     "data": {
      "image/png": "[encoded data removed]",
      "text/plain": [
       "<Figure size 640x480 with 1 Axes>"
      ]
     },
     "metadata": {},
     "output_type": "display_data"
    }
   ],
   "source": [
    "subs = np.unique(data[:,4])\n",
    "for sb in subs:\n",
    "    plt.figure()\n",
    "    trials = data[:,4] == sb\n",
    "    plt.hist(data[trials,-1],10);\n",
    "    plt.axvline(np.mean(data[trials,-1]),color='red');"
   ]
  },
  {
   "cell_type": "markdown",
   "metadata": {
    "id": "phqVma93MnvJ"
   },
   "source": [
    "## Pandas"
   ]
  },
  {
   "cell_type": "markdown",
   "metadata": {
    "id": "rwI2fbUxMria"
   },
   "source": [
    "You are now ready to do manipulations and graphical representations on your data, using the basic features of the **numpy** and **matplotplib** packages.\n",
    "\n",
    "However, in modern data analyses with Python it is common to use another library to organize better the data and provide more robust and intuitive subsetting and manipulation of the data. This is the [pandas](https://pandas.pydata.org/docs/getting_started/index.html#getting-started) library, and it introduces the concept of **DataFrame**.\n",
    "\n",
    "Dataframes also organize the data in rows and columns, but they naturally index them with names, rather than index numbers. This way, we can write our code referring to column `'error'` instead of column `5` and this makes debugging much easier. In addition, they come equipped with many in-built functions for compact data manipulation that make it a very powerful tool. "
   ]
  },
  {
   "cell_type": "markdown",
   "metadata": {
    "id": "2dfK4elXOzFb"
   },
   "source": [
    "So, to start using Pandas, we need to import the library:"
   ]
  },
  {
   "cell_type": "code",
   "execution_count": 19,
   "metadata": {
    "ExecuteTime": {
     "end_time": "2022-01-17T22:30:04.596385Z",
     "start_time": "2022-01-17T22:30:04.277586Z"
    },
    "id": "ErTN1TOcvB_f"
   },
   "outputs": [],
   "source": [
    "import pandas as pd"
   ]
  },
  {
   "cell_type": "markdown",
   "metadata": {
    "id": "E5UnVvYtO6Sa"
   },
   "source": [
    "and now we need to build our DataFrame. Since we already have a matrix with our data, we can just generate the DataFrame from this matrix by specifying the names of each column:"
   ]
  },
  {
   "cell_type": "code",
   "execution_count": 20,
   "metadata": {
    "ExecuteTime": {
     "end_time": "2022-01-17T22:30:12.909131Z",
     "start_time": "2022-01-17T22:30:12.901490Z"
    },
    "id": "61r0lvudO4UW"
   },
   "outputs": [],
   "source": [
    "df = pd.DataFrame(data, columns=['response', 'target', 'distr1', 'distr2', 'subject', 'error'])"
   ]
  },
  {
   "cell_type": "markdown",
   "metadata": {
    "id": "rWoaOryOPw3a"
   },
   "source": [
    "Note that we could also directly load the data in a DataFrame from a CSV file, using the command below.\n",
    "The benefits of importing directly is that we also direct get the columns names from the CSV, we do have to specify them.\n",
    "(Of course we would also need to add the Error column)"
   ]
  },
  {
   "cell_type": "code",
   "execution_count": 21,
   "metadata": {},
   "outputs": [],
   "source": [
    "#df = pd.read_csv(\"https://raw.githubusercontent.com/wimmerlab/MBC-DataAnalysis/main/A0_PythonBasics/Experiment2_all_subjects.csv\",sep=' ')"
   ]
  },
  {
   "cell_type": "markdown",
   "metadata": {},
   "source": [
    "You can now see the table of this dataframe using:"
   ]
  },
  {
   "cell_type": "code",
   "execution_count": 22,
   "metadata": {
    "ExecuteTime": {
     "end_time": "2022-01-17T22:30:19.498145Z",
     "start_time": "2022-01-17T22:30:19.473335Z"
    },
    "id": "HtGLWR4gP1GQ"
   },
   "outputs": [
    {
     "data": {
      "text/html": [
       "<div>\n",
       "<style scoped>\n",
       "    .dataframe tbody tr th:only-of-type {\n",
       "        vertical-align: middle;\n",
       "    }\n",
       "\n",
       "    .dataframe tbody tr th {\n",
       "        vertical-align: top;\n",
       "    }\n",
       "\n",
       "    .dataframe thead th {\n",
       "        text-align: right;\n",
       "    }\n",
       "</style>\n",
       "<table border=\"1\" class=\"dataframe\">\n",
       "  <thead>\n",
       "    <tr style=\"text-align: right;\">\n",
       "      <th></th>\n",
       "      <th>response</th>\n",
       "      <th>target</th>\n",
       "      <th>distr1</th>\n",
       "      <th>distr2</th>\n",
       "      <th>subject</th>\n",
       "      <th>error</th>\n",
       "    </tr>\n",
       "  </thead>\n",
       "  <tbody>\n",
       "    <tr>\n",
       "      <th>0</th>\n",
       "      <td>2.717854</td>\n",
       "      <td>3.041933</td>\n",
       "      <td>2.727768</td>\n",
       "      <td>-1.600649</td>\n",
       "      <td>0.0</td>\n",
       "      <td>-0.324079</td>\n",
       "    </tr>\n",
       "    <tr>\n",
       "      <th>1</th>\n",
       "      <td>2.520928</td>\n",
       "      <td>3.041933</td>\n",
       "      <td>2.727768</td>\n",
       "      <td>-1.600649</td>\n",
       "      <td>0.0</td>\n",
       "      <td>-0.521005</td>\n",
       "    </tr>\n",
       "    <tr>\n",
       "      <th>2</th>\n",
       "      <td>2.683595</td>\n",
       "      <td>3.041933</td>\n",
       "      <td>2.727768</td>\n",
       "      <td>-1.600649</td>\n",
       "      <td>0.0</td>\n",
       "      <td>-0.358338</td>\n",
       "    </tr>\n",
       "    <tr>\n",
       "      <th>3</th>\n",
       "      <td>2.712245</td>\n",
       "      <td>3.041933</td>\n",
       "      <td>2.727768</td>\n",
       "      <td>-1.600649</td>\n",
       "      <td>0.0</td>\n",
       "      <td>-0.329688</td>\n",
       "    </tr>\n",
       "    <tr>\n",
       "      <th>4</th>\n",
       "      <td>2.565060</td>\n",
       "      <td>3.041933</td>\n",
       "      <td>2.727768</td>\n",
       "      <td>-1.600649</td>\n",
       "      <td>0.0</td>\n",
       "      <td>-0.476873</td>\n",
       "    </tr>\n",
       "  </tbody>\n",
       "</table>\n",
       "</div>"
      ],
      "text/plain": [
       "   response    target    distr1    distr2  subject     error\n",
       "0  2.717854  3.041933  2.727768 -1.600649      0.0 -0.324079\n",
       "1  2.520928  3.041933  2.727768 -1.600649      0.0 -0.521005\n",
       "2  2.683595  3.041933  2.727768 -1.600649      0.0 -0.358338\n",
       "3  2.712245  3.041933  2.727768 -1.600649      0.0 -0.329688\n",
       "4  2.565060  3.041933  2.727768 -1.600649      0.0 -0.476873"
      ]
     },
     "execution_count": 22,
     "metadata": {},
     "output_type": "execute_result"
    }
   ],
   "source": [
    "df.head()"
   ]
  },
  {
   "cell_type": "markdown",
   "metadata": {
    "id": "ATG2psFjQ9kk"
   },
   "source": [
    "Notice that now we use our dataframe as if it were a \"library\" from which we call functions. There are tons of functions defined for Pandas dataframes and this is the extraordinary power of this library."
   ]
  },
  {
   "cell_type": "markdown",
   "metadata": {
    "id": "KeT8ratzP3bs"
   },
   "source": [
    "Now, instead of getting error values with `data[:,-1]`, we can use `df['error']`. This is a significant change because our code may add columns inadvertently and then `data[:,-1]` may be addressing something different than \"error\" but `df['error']` is clearly always getting back what we want. In this sense, our code will be clearer and have fewer bugs. Convince yourself that `data[:,-1]` and `df['error']` now give the same list of values:"
   ]
  },
  {
   "cell_type": "code",
   "execution_count": 23,
   "metadata": {
    "ExecuteTime": {
     "end_time": "2022-01-17T22:30:57.694108Z",
     "start_time": "2022-01-17T22:30:57.665610Z"
    },
    "id": "7XfvVnK0QJUC"
   },
   "outputs": [
    {
     "data": {
      "text/plain": [
       "array([-3.24078748e-01, -5.21004744e-01, -3.58338444e-01, -3.29687833e-01,\n",
       "       -4.76873317e-01, -4.70298345e-01, -4.04851202e-01,  1.62941508e-02,\n",
       "       -2.22403959e-02,  3.91034187e-02,  6.95403803e-02, -7.36973111e-04,\n",
       "        1.67138707e-01,  1.20690008e-01, -1.62394164e-01, -2.50465935e-01,\n",
       "       -1.10044293e-01, -1.73185832e-02, -4.12584036e-01, -1.50852460e-01,\n",
       "       -1.03837269e-01, -2.49790568e-01, -1.92362495e-01, -1.80017443e-01,\n",
       "       -1.66973906e-01, -1.06368203e-01,  1.80111651e-01,  1.98253560e-01,\n",
       "        3.37503951e-01,  3.12092755e-01,  3.63759044e-01,  3.23051076e-01,\n",
       "        2.10282768e-01,  2.93455270e-01,  2.46585279e-01,  1.06917047e-01,\n",
       "        3.74114275e-01,  1.41189336e-01,  2.47166657e-01,  1.57576593e-02,\n",
       "        4.36424893e-02, -7.04817164e-02, -7.79523041e-02,  2.76423952e-01,\n",
       "        1.42958175e-01,  1.31804461e-02, -2.74399147e-01, -7.79872798e-02,\n",
       "       -1.24157783e-01, -2.39706107e-01,  1.95966756e-01, -1.77090246e-01,\n",
       "        2.02410721e-01,  1.20876195e-01,  5.41060896e-02,  6.34987959e-02,\n",
       "        1.94994935e-01, -1.55352832e-01, -9.04782092e-02, -1.48133216e-01,\n",
       "       -5.89803653e-02, -3.02232758e-01, -1.36008153e-01, -1.47511099e-01,\n",
       "       -1.49261854e-01,  4.88609909e-02,  2.00677125e-01,  1.30576010e-01,\n",
       "       -1.54448747e-02,  2.93522730e-02,  1.35806907e-01,  3.54331370e-01,\n",
       "        2.04394820e-01,  2.58298771e-01,  9.50075911e-02,  1.14176428e-01,\n",
       "        1.14935771e-01,  1.04488524e-01, -9.69830217e-02, -3.75249850e-02,\n",
       "       -1.21711629e-02, -3.51676107e-02,  6.81018527e-02, -4.82906293e-02,\n",
       "        2.78230754e-03, -2.23634866e-02, -1.30083567e-01, -2.25305092e-02,\n",
       "       -6.44438790e-02, -3.95744077e-02, -3.34818084e-02, -4.10088398e-02,\n",
       "       -2.31587709e-01, -2.78912485e-01,  1.51369443e-01,  3.57266902e-01,\n",
       "        1.21351457e-01,  1.73383279e-01,  2.29091914e-01,  2.08755304e-01,\n",
       "       -1.41905519e-02, -5.30703721e-04, -9.56321672e-02,  5.13188018e-02,\n",
       "        9.88685731e-03,  5.09675475e-02,  1.48453238e-01,  3.47187592e-02,\n",
       "        1.20391140e-02,  5.27148083e-02,  5.03533634e-02,  1.94797018e-03,\n",
       "       -1.30285725e-01,  5.88153820e-04,  3.03610532e-02,  1.44711881e-02,\n",
       "        6.85042096e-02,  2.69993337e-02,  1.22832143e-02,  5.77012007e-02,\n",
       "        6.66731090e-02,  3.30753646e-02, -2.08160073e-02,  2.83750467e-02,\n",
       "       -3.47672930e-02, -1.74141824e-01, -7.15575264e-02, -2.18268139e-02,\n",
       "       -1.90327033e-01, -9.62599473e-02, -1.72554967e-01,  9.53013730e-02,\n",
       "       -8.34693709e-02,  1.34870997e-02, -1.54492617e-01, -1.99648730e-01,\n",
       "       -8.95741448e-02, -3.29147855e-01, -4.45119781e-02, -5.90755414e-02,\n",
       "       -2.29817414e-01, -1.51305396e-01, -2.25069238e-01, -1.65152064e-01,\n",
       "       -9.04485533e-02, -2.18129011e-01, -3.52144578e-01, -2.36013730e-01,\n",
       "        7.32502958e-02, -2.53502850e-01, -1.00633002e-01, -7.53507901e-02,\n",
       "       -2.74606845e-01, -1.12834051e-01, -1.08808067e-01, -7.06485435e-02,\n",
       "       -4.92508375e-02,  1.35532593e-01,  1.55119485e-01, -8.67697080e-02,\n",
       "       -3.11525399e-01, -2.12905052e-01, -4.33382345e-02,  3.81871636e-02,\n",
       "        1.36244406e-02,  5.10470442e-02,  2.57320754e-01,  2.40682520e-01,\n",
       "        8.59471060e-02,  4.42722037e-01,  1.69466337e-01,  1.52984313e-01,\n",
       "       -4.75233653e-02, -6.20753525e-02,  4.91940614e-02,  8.47120436e-02,\n",
       "       -9.93519433e-02,  1.25678604e-01, -1.32740027e-01,  1.14024763e-02,\n",
       "       -3.38598086e-01, -2.74105828e-02, -2.16104810e-01, -1.85131302e-01,\n",
       "       -7.28677128e-04,  8.10139390e-02,  5.57571872e-02, -1.71340432e-01,\n",
       "       -7.62571539e-02, -2.66829825e-01, -2.15782461e-02, -1.93139770e-02,\n",
       "       -1.96055454e-01,  9.57580485e-02, -8.83168246e-02,  1.17707553e-01,\n",
       "       -8.36411027e-02, -2.02635362e-01, -6.48012049e-02,  1.64876948e-01,\n",
       "        9.71971155e-02,  3.12503100e-01,  2.07421307e-02,  1.06008811e-01,\n",
       "        1.96556858e-01,  1.68996657e-02,  2.57978553e-01,  2.16089632e-01,\n",
       "        4.05506917e-01,  1.47640250e-01, -3.77911383e-01, -5.17237290e-02,\n",
       "       -3.81350319e-01, -1.84988197e-01, -1.72640858e-01, -2.84741915e-01,\n",
       "       -1.12442873e-01, -5.18835382e-02, -2.58446714e-01, -2.58523980e-01,\n",
       "        4.79254538e-03, -1.07197024e-01,  1.12226558e-01,  3.77019747e-02,\n",
       "       -6.41784973e-02, -8.96125383e-02, -4.38773680e-02, -3.24533411e-01,\n",
       "       -1.30919021e-01, -1.53969568e-01,  7.92363935e-02, -1.66260590e-01,\n",
       "       -2.56878643e-01, -1.36020236e-01,  4.92308858e-02, -6.44853728e-02,\n",
       "        1.19058561e-02,  7.82829195e-02,  1.05885199e-01,  8.85603992e-03,\n",
       "       -5.36690630e-02,  8.78627175e-02,  3.39613352e-02,  1.29197709e-01,\n",
       "        1.89364052e-01, -2.75170391e-01, -1.90528334e-01, -4.52784808e-02,\n",
       "       -8.13999935e-02, -7.28033778e-02,  3.12172080e-02,  2.67419249e-01,\n",
       "        4.29849426e-02, -3.96193684e-02, -7.24647423e-02, -5.12311425e-02,\n",
       "       -4.15282588e-02, -1.07422084e-01,  4.09400589e-02, -3.49392790e-02,\n",
       "       -2.81256899e-01,  5.86213469e-02,  3.44065574e-02, -9.56021887e-02,\n",
       "        1.20819666e-01, -1.39479609e-03, -4.53915430e-02, -2.27416251e-02,\n",
       "        1.25052981e-01, -8.66417563e-03,  6.61068929e-02,  6.31183307e-02,\n",
       "       -3.61815498e-02, -6.72080959e-02,  1.54766794e-01,  1.15909290e-01,\n",
       "        1.47017312e-01,  1.33409109e-01,  3.60255722e-01,  2.41867901e-01,\n",
       "        9.64689876e-02, -6.81010405e-02, -1.69438121e-01,  1.92843078e-01,\n",
       "        2.96098110e-01, -2.44516129e-02, -3.12335023e-02, -2.59018909e-01,\n",
       "       -4.67112708e-01,  1.95726829e-02, -1.25764905e-01,  2.51675588e-01,\n",
       "        3.46015539e-01, -2.64359943e-02,  1.08114148e-01,  5.98094521e-02,\n",
       "        1.24472400e-01,  9.28715125e-02,  2.69843950e-03,  6.77887320e-02,\n",
       "        7.76361033e-03, -2.26339696e-01,  4.05470950e-01, -1.95376607e-01,\n",
       "       -1.14265500e-01, -4.21706237e-01, -8.13351827e-03, -8.40991301e-02,\n",
       "       -2.37984274e-01, -1.44286908e-01,  3.39147812e-01, -1.38128909e-01,\n",
       "       -1.49394642e-01,  2.72669074e-01,  2.63472050e-03,  7.52504386e-02,\n",
       "       -3.15164100e-02,  2.57651037e-01,  3.90029240e-01,  2.00066273e-01,\n",
       "        6.62155566e-03, -7.58962666e-02, -1.44184712e-01, -1.35736126e-02,\n",
       "       -9.87321928e-02, -2.74904322e-01, -9.44806392e-02, -2.11526331e-01,\n",
       "       -4.93098486e-01,  1.75242739e-01, -1.95859336e-01, -2.42272127e-01,\n",
       "       -6.70804079e-02,  4.11998021e-01, -5.89124691e-02,  2.26885441e-01,\n",
       "       -8.96261438e-02,  1.00162110e-01, -4.62308556e-02,  2.50507021e-01,\n",
       "       -1.97572597e-01, -2.89635709e-01,  3.13056224e-01, -1.78820791e-01,\n",
       "       -1.63190217e-01,  2.83307381e-02, -1.54219476e-02, -2.77758068e-01,\n",
       "        7.44014081e-03,  2.42403262e-02,  1.72240172e-01, -1.82467525e-01,\n",
       "       -6.59591526e-02,  6.39026002e-02, -5.04667444e-01,  4.34569545e-02,\n",
       "       -8.14814162e-02,  5.33841402e-02,  9.06216493e-03,  4.83932204e-02,\n",
       "        1.17179671e-01,  1.53360190e-02,  1.83734487e-02, -7.35028716e-02,\n",
       "        7.88592031e-02,  9.34772429e-03,  6.70792727e-02, -1.62617593e-02,\n",
       "       -5.71745891e-02,  4.47412506e-02, -5.92807360e-02, -8.52545250e-03,\n",
       "       -1.89319800e-02, -1.53922421e-01,  1.11681307e-01,  4.89807028e-02,\n",
       "        8.88027740e-02, -3.79247026e-01, -2.95199001e-01,  5.76163715e-02,\n",
       "       -6.93852320e-02,  6.00212822e-02,  2.71294509e-02,  3.12181408e-02,\n",
       "        3.75243537e-02, -1.68903659e-01,  2.23201461e-02, -6.77641243e-02,\n",
       "        8.06574982e-02, -4.54978113e-01, -6.14747095e-01, -2.21383879e-01,\n",
       "        1.42978248e-01, -2.52478528e-01, -1.93756827e-01, -1.36865011e-01,\n",
       "       -5.74700156e-03, -1.80855427e-02, -5.84608170e-02, -6.47448325e-03,\n",
       "        1.78549443e-01, -1.98848209e-01,  1.52853376e-01, -1.45163203e-01,\n",
       "        5.08217440e-03,  3.06800320e-02, -1.94530602e-01, -1.17165164e-01,\n",
       "        3.11750666e-02, -1.61485890e-01, -6.01262529e-02, -2.19580169e-01,\n",
       "       -8.14813331e-01, -8.48961287e-02, -6.22052651e-02,  1.81294507e-02,\n",
       "       -3.33454407e-02, -1.60523154e-01, -2.04660754e-03,  1.96607147e-01,\n",
       "       -2.01523566e-02, -7.93870193e-02,  1.24174380e-01,  9.29830310e-02,\n",
       "        1.56501671e-02, -1.88856174e-02,  1.26490471e-01, -3.29256209e-01,\n",
       "       -1.03058164e-01,  1.01825873e-01, -9.88378466e-02,  9.62734447e-03,\n",
       "       -1.27584774e-01, -4.63542059e-02, -2.26447432e-01,  1.06990047e-02,\n",
       "       -7.47256442e-02, -2.70664063e-02, -6.15414669e-02, -1.61154631e-01,\n",
       "       -3.00135505e-02, -6.83219032e-02, -7.49244219e-02, -2.62664405e-01,\n",
       "       -7.44162919e-02, -1.37490410e-01, -1.31066963e-02, -1.86448435e-01,\n",
       "        7.15444254e-03,  6.56865296e-02, -2.67501652e-01, -8.39852410e-02,\n",
       "       -5.75138252e-02, -1.64397396e-02, -1.38352380e-01,  2.53944196e-02,\n",
       "       -1.02207304e-02, -6.59303715e-02,  3.89870397e-02, -2.09781908e-02,\n",
       "       -1.01293828e-01, -1.74766179e-01,  3.97374560e-02,  5.81206766e-02,\n",
       "       -9.92568492e-02, -1.80335326e-01, -2.36373014e-01, -1.26138318e-01,\n",
       "       -2.38785667e-01, -1.37384384e-01, -3.81284176e-02, -3.03290322e-01,\n",
       "        6.52857064e-03, -1.79414914e-01,  6.43732561e-03, -3.95925454e-02,\n",
       "        9.23524363e-02, -1.70883066e-02, -6.63554044e-02, -1.80815062e-01,\n",
       "       -1.86964634e-01, -1.54816876e-01, -1.52616314e-01, -5.13286613e-02,\n",
       "       -1.63043382e-01, -7.16756442e-02, -3.86593733e-02,  3.86823185e-02,\n",
       "       -6.60558318e-02,  1.45137959e-01, -3.93961283e-02, -3.24477179e-02,\n",
       "       -1.44618043e-01, -2.58454876e-01, -1.87982242e-02, -1.02496029e-01,\n",
       "        4.18216140e-02, -6.79648067e-02, -6.71323214e-02, -1.00195302e-01,\n",
       "       -4.18877279e-02, -9.80243951e-02,  1.59295774e-01,  8.60133469e-03,\n",
       "        1.71406820e-01, -8.64309018e-02, -9.86881571e-02,  6.17082690e-02,\n",
       "       -6.72025027e-02,  4.34547185e-02,  2.36601415e-02,  1.24571253e-01,\n",
       "        7.26932839e-02,  1.73808967e-01,  1.02409562e-01,  2.05248890e-01,\n",
       "        1.48920062e-01,  1.01814548e-01,  7.20927795e-04,  7.90463521e-02,\n",
       "        5.17370333e-02,  1.30234714e-01,  2.94028327e-01,  1.38432030e-01,\n",
       "        2.35825849e-01,  1.30332260e-02, -3.40126749e-02, -7.06566537e-02,\n",
       "        8.30696526e-02, -9.47316033e-02, -4.62969864e-02, -6.11021833e-02,\n",
       "       -2.77931485e-01, -2.41963691e-02,  1.05139652e-01, -2.59739952e-02,\n",
       "       -3.66244319e-02,  3.47790465e-01,  1.65731726e-01,  7.37752180e-02,\n",
       "       -3.37440128e-02,  1.41386785e-01,  5.61298671e-03,  3.73269267e-02,\n",
       "        9.26741999e-02,  1.42740298e-01,  1.27333875e-01,  1.65156173e-02,\n",
       "       -7.66549959e-02,  1.89812334e-02, -1.82475620e-01, -2.59674899e-01,\n",
       "       -1.36768129e-01, -1.06424964e-01, -9.70562471e-02, -1.01859430e-01,\n",
       "       -3.13611064e-01, -2.38812724e-01, -1.51088247e-01, -1.23558123e-01,\n",
       "       -1.26032355e-01, -1.41056585e-01, -6.56300525e-02, -1.67809470e-01,\n",
       "        2.21990366e-02, -1.28016971e-01,  4.07460994e-02, -2.45774581e-01,\n",
       "       -8.06974869e-02, -2.09730749e-01, -2.57861974e-02,  3.66265098e-03,\n",
       "        2.63077208e-02,  8.19008169e-02,  7.57760966e-02,  6.24463854e-02,\n",
       "        5.22244663e-02,  1.11951150e-01,  5.78116124e-02,  1.37496569e-01,\n",
       "        5.58736935e-02,  1.12331234e-01,  1.49661185e-01, -2.99150198e-02,\n",
       "        3.82618942e-02,  8.42764015e-02, -1.11112762e-01, -4.35474253e-02,\n",
       "        4.33205609e-02, -1.54212441e-01,  8.94162331e-02,  1.23883910e-02,\n",
       "       -7.23397813e-02,  3.28643290e-02,  9.61853605e-02, -4.05034079e-02,\n",
       "        1.60254949e-01,  1.16420693e-01, -1.54457693e-02, -4.19125616e-02,\n",
       "       -2.56278097e-02,  3.69279319e-02, -1.21014045e-01,  2.57093879e-02,\n",
       "        5.00618123e-02, -1.73451881e-02,  7.34252779e-02,  8.58125031e-03,\n",
       "        6.50258291e-02,  2.33651194e-02, -3.81760893e-02,  1.23969365e-01,\n",
       "        9.61008388e-02,  2.76785191e-02, -1.24627226e-02,  1.01394437e-01,\n",
       "        1.00498818e-01,  9.43404211e-02,  1.24845515e-01,  4.30048760e-02,\n",
       "        9.98533562e-02, -7.27434755e-03, -4.05299799e-03, -8.00712169e-02,\n",
       "       -1.90227320e-01, -4.29189779e-02,  1.08268686e-03, -5.76731359e-02,\n",
       "       -8.60675134e-02, -3.27306996e-02, -5.14686742e-02, -1.90932644e-01,\n",
       "        1.28219471e-02,  4.76385250e-02,  3.14063888e-02, -1.08358264e-01,\n",
       "        1.74796585e-01,  8.41506838e-03, -6.38127378e-02, -4.72263936e-03,\n",
       "        2.96130697e-02,  8.82473878e-02, -9.48861377e-03,  1.50633961e-01,\n",
       "        9.00520777e-02,  1.05935319e-01, -2.30014696e-01, -1.03976253e-01,\n",
       "       -1.39094481e-01,  4.09320173e-02, -6.51545726e-02, -2.20613396e-03,\n",
       "       -9.52785594e-02,  1.46776103e-02, -7.87583233e-02, -4.49213190e-03,\n",
       "       -1.17913970e-01, -4.37506068e-02, -3.30174480e-01, -2.39005222e-01,\n",
       "       -1.73155145e-01, -5.36145852e-03, -8.00893660e-02,  1.23077583e-01,\n",
       "        2.01435707e-01, -8.23558354e-02,  3.00930456e-01, -1.01884987e-01,\n",
       "       -7.75251347e-02, -1.71166620e-01,  4.51455662e-02,  1.47049974e-01,\n",
       "        1.74755607e-01,  3.70445746e-02,  1.14742639e-02,  2.08677116e-02,\n",
       "       -5.56962651e-02, -6.31002020e-02, -1.58769209e-01,  8.38891679e-02,\n",
       "       -2.11987688e-02, -6.78328977e-02,  2.14457046e-01, -6.47673813e-02,\n",
       "       -1.84346921e-01, -2.48284411e-01,  3.19382218e-01, -2.05412350e-01,\n",
       "       -2.25279943e-01, -1.44216263e-01, -1.59235656e-01, -1.37898566e-01,\n",
       "       -1.13511673e-01, -1.18976100e-01, -3.82778287e-02, -2.46038549e-01,\n",
       "       -2.21315021e-01, -8.02570036e-02,  3.76097449e-03,  2.23579521e-01,\n",
       "       -5.17042596e-03,  4.18197224e-02, -1.37093200e-02,  6.51931770e-02,\n",
       "        1.47136867e-01, -2.19393486e-02,  5.45383854e-02,  2.89287856e-03,\n",
       "       -2.16568291e-01,  6.21160399e-02, -6.15174943e-02,  2.34352005e-02,\n",
       "       -7.49162850e-02, -9.51080420e-03, -2.04279062e-01, -1.18848573e-01,\n",
       "        3.52190728e-02, -1.65938106e-01, -9.68747473e-02,  1.08546782e-01,\n",
       "        2.60935552e-01, -5.64257992e-02, -1.12879854e-01, -1.75603921e-02,\n",
       "       -2.99777968e-01, -6.46982729e-02,  3.53668980e-03, -1.32062260e-01,\n",
       "       -1.15340716e-01, -2.46717184e-01, -1.15039294e-01, -1.33640677e-01,\n",
       "       -6.09324777e-02, -1.40542651e-01,  1.37315076e-01,  2.03088876e-02,\n",
       "        1.26096814e-01, -1.03110339e-01, -2.62715622e-01, -8.85818458e-02,\n",
       "       -2.66730587e-02, -9.06569764e-02, -8.03316375e-02, -4.90858680e-02,\n",
       "       -1.54710429e-01,  9.93876905e-02,  9.87080350e-02, -2.76858897e-01,\n",
       "       -1.42991842e-01,  5.04479265e-02,  3.48582424e-02, -9.04693475e-02,\n",
       "        2.52870897e-02,  1.28690409e-02, -3.33885566e-02, -1.43961217e-01,\n",
       "       -4.19038390e-02, -2.11112799e-01,  1.80960298e-02,  1.93959458e-02,\n",
       "        1.28802735e-01, -1.11015299e-01, -1.48201554e-02, -1.06294824e-01,\n",
       "        2.89521096e-02,  2.50014240e-04,  4.05453168e-03,  7.88241657e-02,\n",
       "       -8.30701422e-02, -1.54404926e-01, -1.27122621e-01, -2.48506626e-01,\n",
       "        6.99260440e-02,  1.86380604e-01,  1.02773757e-01,  2.01129661e-01,\n",
       "        8.91863657e-02, -2.13194354e-02,  1.13432781e-01, -6.59578272e-02,\n",
       "        4.52074954e-02, -1.44912561e-02,  1.08138483e-01,  8.44243833e-02,\n",
       "        6.23797723e-02,  4.67879020e-02,  6.74810390e-02,  4.67188292e-02,\n",
       "        5.05294249e-02, -5.93640835e-02,  2.77907557e-02,  2.13679574e-02,\n",
       "        6.86442413e-02, -1.66334755e-01, -4.31359408e-02,  9.28904809e-02,\n",
       "        4.97756854e-02, -1.76973669e-01, -9.63449096e-02, -6.95991645e-02,\n",
       "       -3.36317590e-02,  7.58906649e-03, -5.54115906e-02, -1.80395418e-03,\n",
       "        7.27458726e-04,  3.24173512e-02, -1.06689181e-01, -5.60084914e-02,\n",
       "       -3.51585840e-02, -1.10930763e-01, -4.37039938e-02,  6.72915126e-02,\n",
       "       -3.82566852e-02,  3.85553731e-02,  1.49190696e-01,  1.90690623e-01,\n",
       "       -1.08822640e-01, -5.00058811e-02, -2.21348281e-01, -2.73516223e-01,\n",
       "       -1.30758398e-01, -2.23365127e-02, -6.54798954e-02,  1.21336389e-01,\n",
       "        1.10207689e-01, -1.26291646e-02,  3.82382450e-02,  8.15086152e-02,\n",
       "        7.81236290e-02, -9.77104531e-02, -2.29805062e-01, -1.46438129e-01,\n",
       "       -2.04466838e-02,  2.61148699e-02,  1.27307340e-02,  1.14113754e-01,\n",
       "        5.18307665e-02, -1.89651156e-01, -3.76795271e-02,  1.43450545e-01,\n",
       "       -8.51953944e-02,  7.54021180e-04, -6.16647888e-02,  5.05819805e-02,\n",
       "       -7.53301668e-02, -1.38666218e-01, -2.05125340e-01,  2.29120895e-04,\n",
       "        2.85915270e-02,  1.83582155e-02, -1.36807388e-02, -5.43343508e-02,\n",
       "        3.87101339e-02, -1.15562755e-01,  8.07350082e-02,  1.07053072e-01,\n",
       "        1.81724913e-01])"
      ]
     },
     "execution_count": 23,
     "metadata": {},
     "output_type": "execute_result"
    }
   ],
   "source": [
    "data[:,-1]"
   ]
  },
  {
   "cell_type": "code",
   "execution_count": 24,
   "metadata": {
    "ExecuteTime": {
     "end_time": "2022-01-17T22:31:01.023764Z",
     "start_time": "2022-01-17T22:31:01.015403Z"
    }
   },
   "outputs": [
    {
     "data": {
      "text/plain": [
       "0   -0.324079\n",
       "1   -0.521005\n",
       "2   -0.358338\n",
       "3   -0.329688\n",
       "4   -0.476873\n",
       "5   -0.470298\n",
       "6   -0.404851\n",
       "7    0.016294\n",
       "8   -0.022240\n",
       "9    0.039103\n",
       "Name: error, dtype: float64"
      ]
     },
     "execution_count": 24,
     "metadata": {},
     "output_type": "execute_result"
    }
   ],
   "source": [
    "df['error']\n",
    "df.error[:10]"
   ]
  },
  {
   "cell_type": "markdown",
   "metadata": {
    "id": "m3Yw6KrWQKhG"
   },
   "source": [
    "As an exercise: **add now one extra column to the dataframe df that contains the circular distance between the columns target and distr1**. This is much easier than with `column_stack` in plain **numpy**, you just need to assign the new values to a new column name (for instance `df['distT1']`) Check with `df.head()` that you can see this new column in your table."
   ]
  },
  {
   "cell_type": "code",
   "execution_count": 25,
   "metadata": {
    "id": "o58puJs6Qi5B"
   },
   "outputs": [
    {
     "data": {
      "text/html": [
       "<div>\n",
       "<style scoped>\n",
       "    .dataframe tbody tr th:only-of-type {\n",
       "        vertical-align: middle;\n",
       "    }\n",
       "\n",
       "    .dataframe tbody tr th {\n",
       "        vertical-align: top;\n",
       "    }\n",
       "\n",
       "    .dataframe thead th {\n",
       "        text-align: right;\n",
       "    }\n",
       "</style>\n",
       "<table border=\"1\" class=\"dataframe\">\n",
       "  <thead>\n",
       "    <tr style=\"text-align: right;\">\n",
       "      <th></th>\n",
       "      <th>response</th>\n",
       "      <th>target</th>\n",
       "      <th>distr1</th>\n",
       "      <th>distr2</th>\n",
       "      <th>subject</th>\n",
       "      <th>error</th>\n",
       "      <th>distT1</th>\n",
       "    </tr>\n",
       "  </thead>\n",
       "  <tbody>\n",
       "    <tr>\n",
       "      <th>0</th>\n",
       "      <td>2.717854</td>\n",
       "      <td>3.041933</td>\n",
       "      <td>2.727768</td>\n",
       "      <td>-1.600649</td>\n",
       "      <td>0.0</td>\n",
       "      <td>-0.324079</td>\n",
       "      <td>0.314166</td>\n",
       "    </tr>\n",
       "    <tr>\n",
       "      <th>1</th>\n",
       "      <td>2.520928</td>\n",
       "      <td>3.041933</td>\n",
       "      <td>2.727768</td>\n",
       "      <td>-1.600649</td>\n",
       "      <td>0.0</td>\n",
       "      <td>-0.521005</td>\n",
       "      <td>0.314166</td>\n",
       "    </tr>\n",
       "    <tr>\n",
       "      <th>2</th>\n",
       "      <td>2.683595</td>\n",
       "      <td>3.041933</td>\n",
       "      <td>2.727768</td>\n",
       "      <td>-1.600649</td>\n",
       "      <td>0.0</td>\n",
       "      <td>-0.358338</td>\n",
       "      <td>0.314166</td>\n",
       "    </tr>\n",
       "    <tr>\n",
       "      <th>3</th>\n",
       "      <td>2.712245</td>\n",
       "      <td>3.041933</td>\n",
       "      <td>2.727768</td>\n",
       "      <td>-1.600649</td>\n",
       "      <td>0.0</td>\n",
       "      <td>-0.329688</td>\n",
       "      <td>0.314166</td>\n",
       "    </tr>\n",
       "    <tr>\n",
       "      <th>4</th>\n",
       "      <td>2.565060</td>\n",
       "      <td>3.041933</td>\n",
       "      <td>2.727768</td>\n",
       "      <td>-1.600649</td>\n",
       "      <td>0.0</td>\n",
       "      <td>-0.476873</td>\n",
       "      <td>0.314166</td>\n",
       "    </tr>\n",
       "  </tbody>\n",
       "</table>\n",
       "</div>"
      ],
      "text/plain": [
       "   response    target    distr1    distr2  subject     error    distT1\n",
       "0  2.717854  3.041933  2.727768 -1.600649      0.0 -0.324079  0.314166\n",
       "1  2.520928  3.041933  2.727768 -1.600649      0.0 -0.521005  0.314166\n",
       "2  2.683595  3.041933  2.727768 -1.600649      0.0 -0.358338  0.314166\n",
       "3  2.712245  3.041933  2.727768 -1.600649      0.0 -0.329688  0.314166\n",
       "4  2.565060  3.041933  2.727768 -1.600649      0.0 -0.476873  0.314166"
      ]
     },
     "execution_count": 25,
     "metadata": {},
     "output_type": "execute_result"
    }
   ],
   "source": [
    "df['distT1'] = circdist_rad(df['target'], df['distr1'])\n",
    "df.head()"
   ]
  },
  {
   "cell_type": "markdown",
   "metadata": {},
   "source": [
    "Well done! Now compare the simplicity of adding one column to a dataframe to the more cumbersome way to append a column to a numpy array as we did above using `np.column_stack`"
   ]
  },
  {
   "cell_type": "markdown",
   "metadata": {
    "id": "TbJLoq4yQxfY"
   },
   "source": [
    "Now check this:"
   ]
  },
  {
   "cell_type": "code",
   "execution_count": 26,
   "metadata": {
    "colab": {
     "base_uri": "https://localhost:8080/",
     "height": 168
    },
    "id": "rL5_0P5TQymx",
    "outputId": "d8ba5155-645d-45d6-add9-e5e246ab5e88"
   },
   "outputs": [
    {
     "data": {
      "image/png": "[encoded data removed]",
      "text/plain": [
       "<Figure size 640x480 with 9 Axes>"
      ]
     },
     "metadata": {},
     "output_type": "display_data"
    }
   ],
   "source": [
    "df.hist(column='error', by='subject');"
   ]
  },
  {
   "cell_type": "markdown",
   "metadata": {
    "id": "_Sd14xUnR-HW"
   },
   "source": [
    "**Neat, eh?** Compare what you had to do with bare **numpy** above!! You can unpack this very compact command [here](https://pandas.pydata.org/pandas-docs/stable/reference/api/pandas.DataFrame.hist.html)."
   ]
  },
  {
   "cell_type": "markdown",
   "metadata": {},
   "source": [
    "It is thus general good practice to organize our datasets in Python using the Pandas library. It not only keeps the code more readable, and prevents many errors, but it also provides very compact functions to deal with data manipulation and plotting. See for instance how you would compute the mean and standard deviation of behavioral errors for each subject:"
   ]
  },
  {
   "cell_type": "code",
   "execution_count": 27,
   "metadata": {},
   "outputs": [
    {
     "data": {
      "text/html": [
       "<div>\n",
       "<style scoped>\n",
       "    .dataframe tbody tr th:only-of-type {\n",
       "        vertical-align: middle;\n",
       "    }\n",
       "\n",
       "    .dataframe tbody tr th {\n",
       "        vertical-align: top;\n",
       "    }\n",
       "\n",
       "    .dataframe thead th {\n",
       "        text-align: right;\n",
       "    }\n",
       "</style>\n",
       "<table border=\"1\" class=\"dataframe\">\n",
       "  <thead>\n",
       "    <tr style=\"text-align: right;\">\n",
       "      <th></th>\n",
       "      <th>mean</th>\n",
       "      <th>std</th>\n",
       "    </tr>\n",
       "    <tr>\n",
       "      <th>subject</th>\n",
       "      <th></th>\n",
       "      <th></th>\n",
       "    </tr>\n",
       "  </thead>\n",
       "  <tbody>\n",
       "    <tr>\n",
       "      <th>0.0</th>\n",
       "      <td>-0.006219</td>\n",
       "      <td>0.218019</td>\n",
       "    </tr>\n",
       "    <tr>\n",
       "      <th>1.0</th>\n",
       "      <td>0.017888</td>\n",
       "      <td>0.108902</td>\n",
       "    </tr>\n",
       "    <tr>\n",
       "      <th>2.0</th>\n",
       "      <td>-0.048042</td>\n",
       "      <td>0.170884</td>\n",
       "    </tr>\n",
       "    <tr>\n",
       "      <th>3.0</th>\n",
       "      <td>-0.006632</td>\n",
       "      <td>0.140597</td>\n",
       "    </tr>\n",
       "    <tr>\n",
       "      <th>4.0</th>\n",
       "      <td>-0.025624</td>\n",
       "      <td>0.208556</td>\n",
       "    </tr>\n",
       "    <tr>\n",
       "      <th>5.0</th>\n",
       "      <td>-0.055535</td>\n",
       "      <td>0.163319</td>\n",
       "    </tr>\n",
       "    <tr>\n",
       "      <th>6.0</th>\n",
       "      <td>-0.020015</td>\n",
       "      <td>0.115934</td>\n",
       "    </tr>\n",
       "    <tr>\n",
       "      <th>7.0</th>\n",
       "      <td>-0.035685</td>\n",
       "      <td>0.129721</td>\n",
       "    </tr>\n",
       "    <tr>\n",
       "      <th>8.0</th>\n",
       "      <td>-0.019061</td>\n",
       "      <td>0.104541</td>\n",
       "    </tr>\n",
       "  </tbody>\n",
       "</table>\n",
       "</div>"
      ],
      "text/plain": [
       "             mean       std\n",
       "subject                    \n",
       "0.0     -0.006219  0.218019\n",
       "1.0      0.017888  0.108902\n",
       "2.0     -0.048042  0.170884\n",
       "3.0     -0.006632  0.140597\n",
       "4.0     -0.025624  0.208556\n",
       "5.0     -0.055535  0.163319\n",
       "6.0     -0.020015  0.115934\n",
       "7.0     -0.035685  0.129721\n",
       "8.0     -0.019061  0.104541"
      ]
     },
     "execution_count": 27,
     "metadata": {},
     "output_type": "execute_result"
    }
   ],
   "source": [
    "df.groupby('subject').error.agg(('mean', 'std'))"
   ]
  }
 ],
 "metadata": {
  "colab": {
   "name": "Assignment 0.ipynb",
   "provenance": []
  },
  "hide_input": false,
  "kernelspec": {
   "display_name": "Python 3 (ipykernel)",
   "language": "python",
   "name": "python3"
  },
  "language_info": {
   "codemirror_mode": {
    "name": "ipython",
    "version": 3
   },
   "file_extension": ".py",
   "mimetype": "text/x-python",
   "name": "python",
   "nbconvert_exporter": "python",
   "pygments_lexer": "ipython3",
   "version": "3.9.13"
  },
  "toc": {
   "base_numbering": 1,
   "nav_menu": {},
   "number_sections": true,
   "sideBar": true,
   "skip_h1_title": false,
   "title_cell": "Table of Contents",
   "title_sidebar": "Contents",
   "toc_cell": false,
   "toc_position": {},
   "toc_section_display": true,
   "toc_window_display": false
  },
  "varInspector": {
   "cols": {
    "lenName": 16,
    "lenType": 16,
    "lenVar": 40
   },
   "kernels_config": {
    "python": {
     "delete_cmd_postfix": "",
     "delete_cmd_prefix": "del ",
     "library": "var_list.py",
     "varRefreshCmd": "print(var_dic_list())"
    },
    "r": {
     "delete_cmd_postfix": ") ",
     "delete_cmd_prefix": "rm(",
     "library": "var_list.r",
     "varRefreshCmd": "cat(var_dic_list()) "
    }
   },
   "types_to_exclude": [
    "module",
    "function",
    "builtin_function_or_method",
    "instance",
    "_Feature"
   ],
   "window_display": false
  }
 },
 "nbformat": 4,
 "nbformat_minor": 1
}
