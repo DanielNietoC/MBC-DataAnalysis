{
 "cells": [
  {
   "cell_type": "markdown",
   "metadata": {
    "id": "YioJdUgDvB_A"
   },
   "source": [
    "# Second steps into Python"
   ]
  },
  {
   "cell_type": "markdown",
   "metadata": {
    "id": "YKmNcAmzvntI"
   },
   "source": [
    "<div class=\"alert alert-block alert-warning\">\n",
    "<b>Optional exercises:</b> \n",
    "\n",
    "The second, **optional**, part of Assignment 1 contains additional excersises to train your Python skills, including the handling of DataFrames. \n",
    "</div>"
   ]
  },
  {
   "cell_type": "markdown",
   "metadata": {
    "id": "bYrPLyirvB_K"
   },
   "source": [
    "We start by importing the libraries, loading the data and defining the `circ_dist` function. Nothing new here."
   ]
  },
  {
   "cell_type": "code",
   "execution_count": 1,
   "metadata": {
    "ExecuteTime": {
     "end_time": "2022-01-27T22:18:59.136051Z",
     "start_time": "2022-01-27T22:18:58.507402Z"
    },
    "id": "NA2nT_F-vB_O"
   },
   "outputs": [
    {
     "data": {
      "text/html": [
       "<div>\n",
       "<style scoped>\n",
       "    .dataframe tbody tr th:only-of-type {\n",
       "        vertical-align: middle;\n",
       "    }\n",
       "\n",
       "    .dataframe tbody tr th {\n",
       "        vertical-align: top;\n",
       "    }\n",
       "\n",
       "    .dataframe thead th {\n",
       "        text-align: right;\n",
       "    }\n",
       "</style>\n",
       "<table border=\"1\" class=\"dataframe\">\n",
       "  <thead>\n",
       "    <tr style=\"text-align: right;\">\n",
       "      <th></th>\n",
       "      <th>response</th>\n",
       "      <th>target</th>\n",
       "      <th>distr1</th>\n",
       "      <th>distr2</th>\n",
       "      <th>subject</th>\n",
       "      <th>error</th>\n",
       "    </tr>\n",
       "  </thead>\n",
       "  <tbody>\n",
       "    <tr>\n",
       "      <th>0</th>\n",
       "      <td>2.717854</td>\n",
       "      <td>3.041933</td>\n",
       "      <td>2.727768</td>\n",
       "      <td>-1.600649</td>\n",
       "      <td>0.0</td>\n",
       "      <td>-0.324079</td>\n",
       "    </tr>\n",
       "    <tr>\n",
       "      <th>1</th>\n",
       "      <td>2.520928</td>\n",
       "      <td>3.041933</td>\n",
       "      <td>2.727768</td>\n",
       "      <td>-1.600649</td>\n",
       "      <td>0.0</td>\n",
       "      <td>-0.521005</td>\n",
       "    </tr>\n",
       "    <tr>\n",
       "      <th>2</th>\n",
       "      <td>2.683595</td>\n",
       "      <td>3.041933</td>\n",
       "      <td>2.727768</td>\n",
       "      <td>-1.600649</td>\n",
       "      <td>0.0</td>\n",
       "      <td>-0.358338</td>\n",
       "    </tr>\n",
       "    <tr>\n",
       "      <th>3</th>\n",
       "      <td>2.712245</td>\n",
       "      <td>3.041933</td>\n",
       "      <td>2.727768</td>\n",
       "      <td>-1.600649</td>\n",
       "      <td>0.0</td>\n",
       "      <td>-0.329688</td>\n",
       "    </tr>\n",
       "    <tr>\n",
       "      <th>4</th>\n",
       "      <td>2.565060</td>\n",
       "      <td>3.041933</td>\n",
       "      <td>2.727768</td>\n",
       "      <td>-1.600649</td>\n",
       "      <td>0.0</td>\n",
       "      <td>-0.476873</td>\n",
       "    </tr>\n",
       "  </tbody>\n",
       "</table>\n",
       "</div>"
      ],
      "text/plain": [
       "   response    target    distr1    distr2  subject     error\n",
       "0  2.717854  3.041933  2.727768 -1.600649      0.0 -0.324079\n",
       "1  2.520928  3.041933  2.727768 -1.600649      0.0 -0.521005\n",
       "2  2.683595  3.041933  2.727768 -1.600649      0.0 -0.358338\n",
       "3  2.712245  3.041933  2.727768 -1.600649      0.0 -0.329688\n",
       "4  2.565060  3.041933  2.727768 -1.600649      0.0 -0.476873"
      ]
     },
     "execution_count": 1,
     "metadata": {},
     "output_type": "execute_result"
    }
   ],
   "source": [
    "import numpy as np\n",
    "import matplotlib.pyplot as plt\n",
    "import pandas as pd\n",
    "\n",
    "def circdist_rad(angles1,angles2):\n",
    "    output = np.angle( np.exp(1j*(angles1-angles2))) # mathematical operation to get the circular distance\n",
    "    return output # return the circular distance in radians \n",
    "\n",
    "# load the data from github\n",
    "df = pd.read_csv(\"https://raw.githubusercontent.com/wimmerlab/MBC-DataAnalysis/main/A0_PythonBasics/Experiment2_all_subjects.csv\",sep=' ')\n",
    "\n",
    "# add the error in radians\n",
    "df['error'] = circdist_rad(df.response, df. target)\n",
    "df.head()\n"
   ]
  },
  {
   "cell_type": "markdown",
   "metadata": {},
   "source": [
    "## Exercise 1"
   ]
  },
  {
   "cell_type": "markdown",
   "metadata": {},
   "source": [
    "We want to check out that the experiment was well balanced in terms of laterality. The question is: **how many trials had the target in the left and in the right hemifields for each subject?**"
   ]
  },
  {
   "cell_type": "markdown",
   "metadata": {},
   "source": [
    "Write the code to respond to that question. First think about a single subject, and then repeat the code in a for loop across all subjects.\n",
    "\n",
    "1) Select the data for one subject. Remember you do that by defining a boolean for the subject, then subsetting the general dataframe `df` into a new dataframe `ds`.\n",
    "\n",
    "2) Spend some time to think what condition you have to impose to determine that a trial had the target in the left hemifield, and what conditions would indicate that it is in the right or the left hemifield. Remember that our angles go from $-\\pi$ to $\\pi$ and the angle 0 corresponds to the angle marking 3 o'clock. Do some drawing! Express these conditions as booleans `bool_left` and `bool_right`. Hint: you can use the function `abs`.\n",
    "\n",
    "3) Now think about a way to count how many trials you have of each kind. Remember that a boolean is a list of `True` and `False`'s, but when you involve it in algebraic formulas Python treats it as a list of `1` and `0`'s. You essentially want to know how many 1's are in the lists `bool_left` and `bool_right`. How do you get those two counts for this subject?"
   ]
  },
  {
   "cell_type": "code",
   "execution_count": null,
   "metadata": {
    "ExecuteTime": {
     "end_time": "2022-01-27T22:18:59.183109Z",
     "start_time": "2022-01-27T22:18:59.176113Z"
    }
   },
   "outputs": [],
   "source": [
    "#1)\n",
    "bool_s = ???\n",
    "ds = ???\n",
    "\n",
    "#2)\n",
    "bool_left = ???\n",
    "bool_right = ???\n",
    "\n",
    "#3)\n",
    "???, ???"
   ]
  },
  {
   "cell_type": "markdown",
   "metadata": {},
   "source": [
    "Now do this for all subjects in a for loop:"
   ]
  },
  {
   "cell_type": "code",
   "execution_count": null,
   "metadata": {
    "ExecuteTime": {
     "end_time": "2022-01-27T22:18:59.202566Z",
     "start_time": "2022-01-27T22:18:59.184159Z"
    },
    "id": "TbJLoq4yQxfY"
   },
   "outputs": [],
   "source": [
    "for sub in range(9):\n",
    "    bool_s = ???\n",
    "    ds = ???\n",
    "    \n",
    "    bool_left = ???\n",
    "    bool_right = ???\n",
    "    \n",
    "    print((???, ???))\n"
   ]
  },
  {
   "cell_type": "markdown",
   "metadata": {},
   "source": [
    "We can do exactly the same but much more compact in Pandas:"
   ]
  },
  {
   "cell_type": "code",
   "execution_count": null,
   "metadata": {
    "ExecuteTime": {
     "end_time": "2022-01-27T22:18:59.218791Z",
     "start_time": "2022-01-27T22:18:59.204409Z"
    }
   },
   "outputs": [],
   "source": [
    "df['left'] = ??? #boolean marking left trials with True, for all subjects\n",
    "df['right'] = ??? #boolean marking right trials with True, for all subjects\n",
    "df.groupby('subject')[['left','right']].agg('sum')"
   ]
  },
  {
   "cell_type": "markdown",
   "metadata": {},
   "source": [
    "## Exercise 2"
   ]
  },
  {
   "cell_type": "markdown",
   "metadata": {},
   "source": [
    "Now order the subjects by the precision in their responses. There can be several ways to measure precision. First, let's define precision as the mean of squared response errors. What is the ranking of more to less precise subjects in our database? \n",
    "\n",
    "You can do this by adding the column `error2` with the squared errors (note that Python uses `**` for exponentiation to integers), then running a for-loop through subjects and subsetting `df`, computing mean squared error for each subject and store it in a pandas dataframe (see how you do this, using the `loc` function in the dataframe). Finally, sort this dataframe using the pandas function `sort_values()`. \n"
   ]
  },
  {
   "cell_type": "code",
   "execution_count": null,
   "metadata": {
    "ExecuteTime": {
     "end_time": "2022-01-27T22:18:59.246859Z",
     "start_time": "2022-01-27T22:18:59.220367Z"
    }
   },
   "outputs": [],
   "source": [
    "df['error2'] = ???\n",
    "mse = pd.DataFrame() #mean squared error\n",
    "for sub in range(9):\n",
    "    bool_s = ???\n",
    "    ds = ???\n",
    "    mse_s = np.mean(???)\n",
    "    mse.loc[???,???]=mse_s #store mean squared error for this subject in the column 'mse'\n",
    "    \n",
    "mse.???"
   ]
  },
  {
   "cell_type": "markdown",
   "metadata": {},
   "source": [
    "Alternatively, you could use the compact pandas syntax to take the mean of the column `error2` on a subject-by-subject basis, following the scheme in the previous exercise (and then use the pandas function `sort_values()` for sorting)."
   ]
  },
  {
   "cell_type": "code",
   "execution_count": null,
   "metadata": {
    "ExecuteTime": {
     "end_time": "2022-01-27T22:18:59.255724Z",
     "start_time": "2022-01-27T22:18:59.248236Z"
    }
   },
   "outputs": [],
   "source": [
    "df.groupby(???)[???].agg(???).sort_values()"
   ]
  },
  {
   "cell_type": "markdown",
   "metadata": {},
   "source": [
    "An alternative method to compute precision would be by getting the variance of the errors. You could compute the variance of the errors for each subject and then order them based on that variance. Try it here using the pandas compact form:"
   ]
  },
  {
   "cell_type": "code",
   "execution_count": null,
   "metadata": {
    "ExecuteTime": {
     "end_time": "2022-01-27T22:18:59.270445Z",
     "start_time": "2022-01-27T22:18:59.257404Z"
    }
   },
   "outputs": [],
   "source": [
    "df.???.???.???"
   ]
  },
  {
   "cell_type": "markdown",
   "metadata": {},
   "source": [
    "is the order obtained by the two methods the same? are the numbers for the precision the same from the two methods? why not?"
   ]
  },
  {
   "cell_type": "markdown",
   "metadata": {},
   "source": [
    "## Exercise 3"
   ]
  },
  {
   "cell_type": "markdown",
   "metadata": {},
   "source": [
    "Let's check if our participants were equally precise when the target was in the top or the bottom hemifield"
   ]
  },
  {
   "cell_type": "markdown",
   "metadata": {},
   "source": [
    "We can check that by plotting the precision in the top hemifield on the x-axis and the precision in the bottom hemifield on the y-axis, for each participant. We can calculate precision (rather, its reciprocal) as the variance of the errors. Think what is the condition that you have to impose on the target angle in order to select trials with target stimulus in the \"top hemifield\" and \"bottom hemifield\". Then compute the variance separately for these different groups of trials, and for each participant. If you save these precisions for all participants in a pandas dataframe, then you can use the function `DataFrame.plot.scatter` to make the plot."
   ]
  },
  {
   "cell_type": "code",
   "execution_count": null,
   "metadata": {
    "ExecuteTime": {
     "end_time": "2022-01-28T18:19:24.693908Z",
     "start_time": "2022-01-28T18:19:24.541003Z"
    }
   },
   "outputs": [],
   "source": [
    "prec=pd.DataFrame() # empty dataframe to save stuff to\n",
    "for sub in range(9):\n",
    "    bool_s = ???\n",
    "    ds = ???\n",
    "    prec.loc[sub,'top'] = np.var(ds[???].error) #save precisions in the dataframe\n",
    "    prec.loc[sub,'bottom'] = np.var(ds[???].error)\n",
    "    \n",
    "ax = prec.plot.scatter(x=???, y=???)\n",
    "ax.plot([0, 1], [0, 1], 'k--', transform=ax.transAxes) #plot the diagonal line for comparison"
   ]
  },
  {
   "cell_type": "markdown",
   "metadata": {},
   "source": [
    "What do you conclude? Judging from the trend, what hemifield has better memory precision?"
   ]
  },
  {
   "cell_type": "markdown",
   "metadata": {},
   "source": [
    "## Exercise 4"
   ]
  },
  {
   "cell_type": "markdown",
   "metadata": {
    "ExecuteTime": {
     "end_time": "2022-01-28T18:41:03.080997Z",
     "start_time": "2022-01-28T18:41:02.916025Z"
    }
   },
   "source": [
    "Now plot, for all subjects together, the errors when the target was in each of the 4 quadrants. Use the `plt.subplot` function to plot the 4 histograms in subpanels of a figure."
   ]
  },
  {
   "cell_type": "code",
   "execution_count": null,
   "metadata": {
    "ExecuteTime": {
     "end_time": "2022-01-28T18:47:17.159280Z",
     "start_time": "2022-01-28T18:47:16.826866Z"
    }
   },
   "outputs": [],
   "source": [
    "angles = np.arange(5)*np.pi/2-np.pi #array containing limits of quadrants in radians: -pi, -pi/2, 0 ,pi/2, pi\n",
    "for i in range(4):\n",
    "    bool_a = (???)&(???)  #boolean marking with True all trials with target in the i-th quadrant, between angles[i] and angles[i+1]\n",
    "    plt.subplot(2,2,???)\n",
    "    plt.hist(???,20)\n"
   ]
  },
  {
   "cell_type": "markdown",
   "metadata": {},
   "source": [
    "## Exercise 5"
   ]
  },
  {
   "cell_type": "markdown",
   "metadata": {},
   "source": [
    "What is the minimum and the maximum angular distances between simultaneously presented stimuli?"
   ]
  },
  {
   "cell_type": "code",
   "execution_count": null,
   "metadata": {
    "ExecuteTime": {
     "end_time": "2022-01-31T16:53:18.380258Z",
     "start_time": "2022-01-31T16:53:18.365049Z"
    }
   },
   "outputs": [],
   "source": [
    "# insert your code here\n"
   ]
  }
 ],
 "metadata": {
  "colab": {
   "name": "Assignment 0.ipynb",
   "provenance": []
  },
  "hide_input": false,
  "kernelspec": {
   "display_name": "Python 3 (ipykernel)",
   "language": "python",
   "name": "python3"
  },
  "language_info": {
   "codemirror_mode": {
    "name": "ipython",
    "version": 3
   },
   "file_extension": ".py",
   "mimetype": "text/x-python",
   "name": "python",
   "nbconvert_exporter": "python",
   "pygments_lexer": "ipython3",
   "version": "3.9.13"
  },
  "toc": {
   "base_numbering": 1,
   "nav_menu": {},
   "number_sections": true,
   "sideBar": true,
   "skip_h1_title": false,
   "title_cell": "Table of Contents",
   "title_sidebar": "Contents",
   "toc_cell": false,
   "toc_position": {},
   "toc_section_display": true,
   "toc_window_display": false
  },
  "varInspector": {
   "cols": {
    "lenName": 16,
    "lenType": 16,
    "lenVar": 40
   },
   "kernels_config": {
    "python": {
     "delete_cmd_postfix": "",
     "delete_cmd_prefix": "del ",
     "library": "var_list.py",
     "varRefreshCmd": "print(var_dic_list())"
    },
    "r": {
     "delete_cmd_postfix": ") ",
     "delete_cmd_prefix": "rm(",
     "library": "var_list.r",
     "varRefreshCmd": "cat(var_dic_list()) "
    }
   },
   "types_to_exclude": [
    "module",
    "function",
    "builtin_function_or_method",
    "instance",
    "_Feature"
   ],
   "window_display": false
  }
 },
 "nbformat": 4,
 "nbformat_minor": 1
}
