{
 "cells": [
  {
   "cell_type": "markdown",
   "metadata": {
    "colab_type": "text",
    "id": "pxFPNerzM0Bh"
   },
   "source": [
    "### Assignment 1A\n",
    "\n",
    "##### Descriptive statistics and statistical hypothesis testing\n",
    "\n",
    "\n"
   ]
  },
  {
   "cell_type": "markdown",
   "metadata": {},
   "source": [
    "**In this assignment, we will see:**\n",
    "- how to **visually inspect** experimental data\n",
    "- how to characterize experimental data using **descriptive statistics**\n",
    "- how to perform a simple statistic test using either a **parametric (T-test) or non-parametric (shuffling) method**\n"
   ]
  },
  {
   "cell_type": "markdown",
   "metadata": {},
   "source": [
    "<div class=\"alert alert-block alert-warning\">\n",
    "<b>Preparing for this assignment:</b> \n",
    "\n",
    "The following resources will help you to get ready to complete this assignment. \n",
    "<ul>\n",
    "    <li>Watch <a href=\"http://youtu.be/5q-Ws4y8JE4\" target=\"_blank\">this video</a> (here the <a href=\"https://www.cmrr.umn.edu/~kendrick/statsmatlab/StatsLecture2Slides_Hypothesis.pdf\" target=\"_blank\">slides</a>) only until time stamp 23:08 (stop right after permutation tests) in order to learn about:</li>\n",
    "    <ul>\n",
    "        <li>the logic of t-tests to test the hypothesis that two samples have the same mean</li>\n",
    "        <li>the non-parametric equivalent in permutation tests. Make sure you understand this logic</li>\n",
    "    </ul>\n",
    "    <li>Read <a href=\"https://doi.org/10.1152/jn.00362.2015\" target=\"_blank\">this paper</a> (focussing on Experiment 2) to understand the logic of the experimental data that we will analyze</li>\n",
    "</ul>\n",
    "</div>"
   ]
  },
  {
   "cell_type": "markdown",
   "metadata": {},
   "source": [
    "## About the dataset\n",
    "We will first look at the psychophysics dataset. \n",
    "\n",
    "Typically, working memory is studied by asking subjects to remember a stimulus for a specific period (eg. for 1s or 3s) that was previously briefly shown. This dataset consists of two experiments conducted [in a behavioural study of working memory precision](https://doi.org/10.1152/jn.00362.2015).  Here, we are going to analyse only the data coming from Experiment 2. In this study, there was a total of 9 subjects. Each subject was shown a set of 3 colorful dots on each trial. After stimulus removal, subjects had to fixate on black square in the center of the monitor for 3 seconds. After this delay period (3 seconds), the fixation square changed color to a color of one of the previously shown stimuli. At this point, the subject had to report the precise position of that stimuli. In each trial, one stimulus was the target and the other two the non-targets. For the purpose of the article, the stimuli had a certain spatial configuration. In particular one of the two non-targets was very close to the target, either located clockwise or counter-clockwise from the target. The point of the study was to test the hypothesis that behavioral reports to target stimuli of participants would be attractively biased by non-target memory items. The purpose of this exercise is to test this hypothesis with the tools of statistical inference."
   ]
  },
  {
   "cell_type": "markdown",
   "metadata": {},
   "source": [
    "Load the data and organize it in a Pandas dataframe (as in Assignment 0)."
   ]
  },
  {
   "cell_type": "code",
   "execution_count": 1,
   "metadata": {
    "ExecuteTime": {
     "end_time": "2022-02-04T22:46:45.526840Z",
     "start_time": "2022-02-04T22:46:44.697115Z"
    },
    "colab": {},
    "colab_type": "code",
    "id": "a-LweZWJM0B8"
   },
   "outputs": [
    {
     "data": {
      "text/html": [
       "<div>\n",
       "<style scoped>\n",
       "    .dataframe tbody tr th:only-of-type {\n",
       "        vertical-align: middle;\n",
       "    }\n",
       "\n",
       "    .dataframe tbody tr th {\n",
       "        vertical-align: top;\n",
       "    }\n",
       "\n",
       "    .dataframe thead th {\n",
       "        text-align: right;\n",
       "    }\n",
       "</style>\n",
       "<table border=\"1\" class=\"dataframe\">\n",
       "  <thead>\n",
       "    <tr style=\"text-align: right;\">\n",
       "      <th></th>\n",
       "      <th>response</th>\n",
       "      <th>target</th>\n",
       "      <th>distr1</th>\n",
       "      <th>distr2</th>\n",
       "      <th>subject</th>\n",
       "    </tr>\n",
       "  </thead>\n",
       "  <tbody>\n",
       "    <tr>\n",
       "      <th>0</th>\n",
       "      <td>2.717854</td>\n",
       "      <td>3.041933</td>\n",
       "      <td>2.727768</td>\n",
       "      <td>-1.600649</td>\n",
       "      <td>0.0</td>\n",
       "    </tr>\n",
       "    <tr>\n",
       "      <th>1</th>\n",
       "      <td>2.520928</td>\n",
       "      <td>3.041933</td>\n",
       "      <td>2.727768</td>\n",
       "      <td>-1.600649</td>\n",
       "      <td>0.0</td>\n",
       "    </tr>\n",
       "    <tr>\n",
       "      <th>2</th>\n",
       "      <td>2.683595</td>\n",
       "      <td>3.041933</td>\n",
       "      <td>2.727768</td>\n",
       "      <td>-1.600649</td>\n",
       "      <td>0.0</td>\n",
       "    </tr>\n",
       "    <tr>\n",
       "      <th>3</th>\n",
       "      <td>2.712245</td>\n",
       "      <td>3.041933</td>\n",
       "      <td>2.727768</td>\n",
       "      <td>-1.600649</td>\n",
       "      <td>0.0</td>\n",
       "    </tr>\n",
       "    <tr>\n",
       "      <th>4</th>\n",
       "      <td>2.565060</td>\n",
       "      <td>3.041933</td>\n",
       "      <td>2.727768</td>\n",
       "      <td>-1.600649</td>\n",
       "      <td>0.0</td>\n",
       "    </tr>\n",
       "  </tbody>\n",
       "</table>\n",
       "</div>"
      ],
      "text/plain": [
       "   response    target    distr1    distr2  subject\n",
       "0  2.717854  3.041933  2.727768 -1.600649      0.0\n",
       "1  2.520928  3.041933  2.727768 -1.600649      0.0\n",
       "2  2.683595  3.041933  2.727768 -1.600649      0.0\n",
       "3  2.712245  3.041933  2.727768 -1.600649      0.0\n",
       "4  2.565060  3.041933  2.727768 -1.600649      0.0"
      ]
     },
     "execution_count": 1,
     "metadata": {},
     "output_type": "execute_result"
    }
   ],
   "source": [
    "import numpy as np\n",
    "import matplotlib.pyplot as plt\n",
    "import pandas as pd\n",
    "\n",
    "def circdist_rad(angles1,angles2):\n",
    "    output = np.angle( np.exp(1j*(angles1-angles2))) # mathematical operation to get the circular distance\n",
    "    return output # return the circular distance in radians \n",
    "\n",
    "# load the data from github\n",
    "df = pd.read_csv(\"https://raw.githubusercontent.com/wimmerlab/MBC-DataAnalysis/main/A0_PythonBasics/Experiment2_all_subjects.csv\",sep=' ')\n",
    "\n",
    "# list of subjects\n",
    "subjects = np.unique(df.subject)\n",
    "\n",
    "df.head()\n"
   ]
  },
  {
   "cell_type": "markdown",
   "metadata": {
    "colab_type": "text",
    "id": "RaTLV_8bM0C4"
   },
   "source": [
    "The angle on the circle of both behavioral response and stimulus locations is given in radian angles in the 4 columns of the provided data table. The column `response` corresponds to behavioral report, `target` to the target stimulus, and `distr1` and `distr2` to non-target stimuli, for each corresponding trial (in rows). In fact, the `distr1` column corresponds to the non-target stimulus closest to the target stimulus, so that is the one that we are hypothesizing that will have an influence on participants’ response. For this reason, we name clockwise trials (cw trials) those trials in which the closest non-target stimulus (or distractor) is clockwise relative to the target stimulus, and we expect this factor to have an impact on the errors of the participants.\n",
    "\n",
    " "
   ]
  },
  {
   "cell_type": "markdown",
   "metadata": {},
   "source": [
    "Now add 3 extra columns:\n",
    "\n",
    "1. error column (difference of response and target)\n",
    "2. distance of closest distractor (difference of distractor and target)\n",
    "3. cw-ccw trial\n",
    "\n",
    "Hint: use `circdist_rad`."
   ]
  },
  {
   "cell_type": "code",
   "execution_count": 2,
   "metadata": {
    "ExecuteTime": {
     "end_time": "2022-02-04T22:46:45.579384Z",
     "start_time": "2022-02-04T22:46:45.571146Z"
    },
    "colab": {},
    "colab_type": "code",
    "id": "BalrNc8IM0Dh"
   },
   "outputs": [],
   "source": [
    "df['error'] = circdist_rad(df['response'],df['target'])\n",
    "df['dist_closest'] = circdist_rad(df['distr1'],df['target'])\n",
    "df['cw'] = df['dist_closest']<0"
   ]
  },
  {
   "cell_type": "code",
   "execution_count": 3,
   "metadata": {
    "ExecuteTime": {
     "end_time": "2022-02-04T22:46:45.595541Z",
     "start_time": "2022-02-04T22:46:45.581625Z"
    }
   },
   "outputs": [
    {
     "data": {
      "text/html": [
       "<div>\n",
       "<style scoped>\n",
       "    .dataframe tbody tr th:only-of-type {\n",
       "        vertical-align: middle;\n",
       "    }\n",
       "\n",
       "    .dataframe tbody tr th {\n",
       "        vertical-align: top;\n",
       "    }\n",
       "\n",
       "    .dataframe thead th {\n",
       "        text-align: right;\n",
       "    }\n",
       "</style>\n",
       "<table border=\"1\" class=\"dataframe\">\n",
       "  <thead>\n",
       "    <tr style=\"text-align: right;\">\n",
       "      <th></th>\n",
       "      <th>response</th>\n",
       "      <th>target</th>\n",
       "      <th>distr1</th>\n",
       "      <th>distr2</th>\n",
       "      <th>subject</th>\n",
       "      <th>error</th>\n",
       "      <th>dist_closest</th>\n",
       "      <th>cw</th>\n",
       "    </tr>\n",
       "  </thead>\n",
       "  <tbody>\n",
       "    <tr>\n",
       "      <th>0</th>\n",
       "      <td>2.717854</td>\n",
       "      <td>3.041933</td>\n",
       "      <td>2.727768</td>\n",
       "      <td>-1.600649</td>\n",
       "      <td>0.0</td>\n",
       "      <td>-0.324079</td>\n",
       "      <td>-0.314166</td>\n",
       "      <td>True</td>\n",
       "    </tr>\n",
       "    <tr>\n",
       "      <th>1</th>\n",
       "      <td>2.520928</td>\n",
       "      <td>3.041933</td>\n",
       "      <td>2.727768</td>\n",
       "      <td>-1.600649</td>\n",
       "      <td>0.0</td>\n",
       "      <td>-0.521005</td>\n",
       "      <td>-0.314166</td>\n",
       "      <td>True</td>\n",
       "    </tr>\n",
       "    <tr>\n",
       "      <th>2</th>\n",
       "      <td>2.683595</td>\n",
       "      <td>3.041933</td>\n",
       "      <td>2.727768</td>\n",
       "      <td>-1.600649</td>\n",
       "      <td>0.0</td>\n",
       "      <td>-0.358338</td>\n",
       "      <td>-0.314166</td>\n",
       "      <td>True</td>\n",
       "    </tr>\n",
       "    <tr>\n",
       "      <th>3</th>\n",
       "      <td>2.712245</td>\n",
       "      <td>3.041933</td>\n",
       "      <td>2.727768</td>\n",
       "      <td>-1.600649</td>\n",
       "      <td>0.0</td>\n",
       "      <td>-0.329688</td>\n",
       "      <td>-0.314166</td>\n",
       "      <td>True</td>\n",
       "    </tr>\n",
       "    <tr>\n",
       "      <th>4</th>\n",
       "      <td>2.565060</td>\n",
       "      <td>3.041933</td>\n",
       "      <td>2.727768</td>\n",
       "      <td>-1.600649</td>\n",
       "      <td>0.0</td>\n",
       "      <td>-0.476873</td>\n",
       "      <td>-0.314166</td>\n",
       "      <td>True</td>\n",
       "    </tr>\n",
       "  </tbody>\n",
       "</table>\n",
       "</div>"
      ],
      "text/plain": [
       "   response    target    distr1    distr2  subject     error  dist_closest  \\\n",
       "0  2.717854  3.041933  2.727768 -1.600649      0.0 -0.324079     -0.314166   \n",
       "1  2.520928  3.041933  2.727768 -1.600649      0.0 -0.521005     -0.314166   \n",
       "2  2.683595  3.041933  2.727768 -1.600649      0.0 -0.358338     -0.314166   \n",
       "3  2.712245  3.041933  2.727768 -1.600649      0.0 -0.329688     -0.314166   \n",
       "4  2.565060  3.041933  2.727768 -1.600649      0.0 -0.476873     -0.314166   \n",
       "\n",
       "     cw  \n",
       "0  True  \n",
       "1  True  \n",
       "2  True  \n",
       "3  True  \n",
       "4  True  "
      ]
     },
     "execution_count": 3,
     "metadata": {},
     "output_type": "execute_result"
    }
   ],
   "source": [
    "df.head()"
   ]
  },
  {
   "cell_type": "markdown",
   "metadata": {
    "colab_type": "text",
    "id": "pb8L3c-7M0Dq"
   },
   "source": [
    "## 1. Visualization\n",
    "Plot the visual input in one specific trial by plotting the three cues and the behavioral response in different colors. Be sure to include a legend with `plt.legend`. As a reference, include the fixation dot (at coordinates `(0,0)`) as a black cross. To be specific, let’s take trial 4 of the 3rd subject. Remember that given an angle α in radians, the x and y coordinates on the circle are given by cos(α) and sin(α), respectively, and these trigonometric functions are part of the **numpy** package.\n",
    "\n",
    "Hint: here we will need to subset the rows of a Pandas dataframe, and this can be tricky. By default, the Pandas dataframe keeps the row indices of the original full dataframe, so the new subset dataframe will lack a series of row indices. In order to force a re-numbering of rows in the subset, we need to invoke `reset_index()`. Still, Pandas will consider that we still want to keep the connection with the parent dataset so it will add by default a new column (called 'index') with the row indices in the parent dataset. If we do not want this column added, then we will invoke `reset_index(drop=True)`. Another possibility is to use `iloc`.\n"
   ]
  },
  {
   "cell_type": "code",
   "execution_count": null,
   "metadata": {
    "ExecuteTime": {
     "end_time": "2022-02-04T22:46:45.808262Z",
     "start_time": "2022-02-04T22:46:45.596717Z"
    },
    "colab": {},
    "colab_type": "code",
    "id": "KHCssFmyM0Ds",
    "outputId": "38a360e9-53a1-48b6-a009-4105224dc623"
   },
   "outputs": [],
   "source": [
    "#### Visualize a trial\n",
    "### subject 3, trial 4\n",
    "bool_s3 = ??? # create a boolean for trials corresponding to the 3rd subject\n",
    "ds = ??? # subset from the dataframe df the trials for the 3rd subject. Don't forget to 'reset_index(drop=True)'!\n",
    "ex_trial = ??? # specific trial number that we want to plot for the 3rd subject\n",
    "\n",
    "??? # first plot the fixation cross \n",
    "for lct in ds.columns[:4]: # now we cycle through all the columns of interest of our dataset (the 4 first)\n",
    "    plt.plot(np.cos(???), np.sin(???), 'o', label=lct) # for each column, we plot a circle at the corresponding location of the stimulus\n",
    "??? # place the legend\n",
    "plt.xlim(-1.2, 1.2) # set limits for the x-axis\n",
    "plt.ylim(-1.2, 1.2) # set limits for the y-axis\n"
   ]
  },
  {
   "cell_type": "code",
   "execution_count": 5,
   "metadata": {
    "ExecuteTime": {
     "end_time": "2022-02-04T22:46:45.812064Z",
     "start_time": "2022-02-04T22:46:45.809586Z"
    }
   },
   "outputs": [],
   "source": [
    "assert ex_trial%3==0\n",
    "assert ds.shape[0]==93"
   ]
  },
  {
   "cell_type": "markdown",
   "metadata": {},
   "source": [
    "## 2. Characterizing data: descriptive statistics"
   ]
  },
  {
   "cell_type": "markdown",
   "metadata": {},
   "source": [
    "We will deal with descriptive statistics in more detail when we analyze spiking data. Here we will go quickly over this, but generally plotting the data and characterizing it with a few summarizing statistics that give a good succint description of the data is the first thing that one should do. Understanding what the data is like is fundamental to design meaningful analyses.\n",
    "\n",
    "Using measures of centrality and/or dispersion, design a method to confirm that the second column is the target stimulus, and the 3rd and 4th columns are non-target stimuli. By definition the target stimulus is the stimulus to which participants are responding to so their responses should be closer to. There are several possible solutions to this. Find yours! Write your code in the next cell, then use the \"Insert\" option in the upper menu and select \"Insert Cell Below\" to add one more cell in this notebook in order to enter you interpretation of the results. Make sure you mark this cell as \"Markdown\" in the menu above before you \"shift+ENTER\" it."
   ]
  },
  {
   "cell_type": "code",
   "execution_count": null,
   "metadata": {
    "ExecuteTime": {
     "end_time": "2022-02-04T22:46:45.827099Z",
     "start_time": "2022-02-04T22:46:45.814054Z"
    }
   },
   "outputs": [],
   "source": [
    "???"
   ]
  },
  {
   "cell_type": "markdown",
   "metadata": {
    "colab_type": "text",
    "id": "jvt6rW_8M0D0"
   },
   "source": [
    "An even better approach is to use visualization tools. Use the knowledge you have about the stimulus configuration and the *plt.hist* function to confirm that 1st column is the target. \n"
   ]
  },
  {
   "cell_type": "code",
   "execution_count": null,
   "metadata": {
    "ExecuteTime": {
     "end_time": "2022-02-04T22:46:46.334932Z",
     "start_time": "2022-02-04T22:46:45.829156Z"
    },
    "colab": {},
    "colab_type": "code",
    "id": "vpy2OxLhM0D3",
    "outputId": "b4f81b64-f57f-4d66-d180-e73f9b8493b6"
   },
   "outputs": [],
   "source": [
    "hist1 = circdist_rad(???,???)\n",
    "plt.figure()\n",
    "plt.title('column1')\n",
    "plt.hist(hist1, bins=50)\n",
    "plt.show()\n",
    "\n",
    "hist2 = circdist_rad(???,???)\n",
    "plt.figure()\n",
    "plt.title('column2')\n",
    "plt.hist(hist2, bins=50)\n",
    "plt.show()\n",
    "\n",
    "hist3 = circdist_rad(???,???)\n",
    "plt.figure()\n",
    "plt.title('column3')\n",
    "plt.hist(hist3, bins=50)\n",
    "plt.show()\n"
   ]
  },
  {
   "cell_type": "markdown",
   "metadata": {},
   "source": [
    "## 3. Statistical hypothesis testing: parametric methods"
   ]
  },
  {
   "cell_type": "markdown",
   "metadata": {},
   "source": [
    "### 3.1 Parametric methods"
   ]
  },
  {
   "cell_type": "markdown",
   "metadata": {
    "colab_type": "text",
    "id": "ZsFBC41sM0D_"
   },
   "source": [
    "We want to test if there is any effect at the population level of the nearest non-target (NT) item (column *'distr1'*) on the bias of the behavioral response. The simplest way to test this is by using a t-test to compare the behavioral errors (response (R) - target (T)) for trials in which the NT was clockwise to the T stimulus (CW trials, NT-T<0) with the behavioral errors for trials in which the NT was counterclockwise to the T stimulus (CCW trials, NT-T>0), lumping together data from all subjects. \n",
    "\n",
    "Before we run the statistical test, let's plot this data. Let's plot in different histograms trials when the nearest non-target item (*'distr1'*) was clockwise or counter-clockwise from the target (*'target'*). Remember that we already built a column (*'cw'*) identifying (True/False) these two conditions."
   ]
  },
  {
   "cell_type": "code",
   "execution_count": null,
   "metadata": {
    "ExecuteTime": {
     "end_time": "2022-02-04T22:46:46.627035Z",
     "start_time": "2022-02-04T22:46:46.336557Z"
    }
   },
   "outputs": [],
   "source": [
    "plt.figure()\n",
    "bool_cw = ??? # get a boolean for CW trials\n",
    "plt.hist(???, alpha=0.5, bins=50, label='CW', density=True) # plot histogram of CW trials\n",
    "bool_ccw = ??? # get a boolean for CCW trials\n",
    "plt.hist(???, alpha=0.5, bins=50, label='CCW', density=True) # plot histogram of CCW trials\n",
    "plt.legend(); # draw legend"
   ]
  },
  {
   "cell_type": "code",
   "execution_count": 9,
   "metadata": {
    "ExecuteTime": {
     "end_time": "2022-02-04T22:46:46.632424Z",
     "start_time": "2022-02-04T22:46:46.628533Z"
    }
   },
   "outputs": [],
   "source": [
    "assert np.sum(bool_cw)==359\n",
    "assert np.sum(bool_ccw)==498"
   ]
  },
  {
   "cell_type": "markdown",
   "metadata": {},
   "source": [
    "In the histogram plots above, we used the arguments `alpha=0.5` and `density=True`. Play with those arguments to see what they do. You can vary `alpha` between 0 and 1, and you can switch on and off `density`. You can also read about them [here](https://matplotlib.org/3.3.1/api/_as_gen/matplotlib.pyplot.hist.html)."
   ]
  },
  {
   "cell_type": "markdown",
   "metadata": {},
   "source": [
    "Now, plot the CW/CCW histograms for each subject. Remember this is as easy as embedding the code of the two histograms above within a for loop, and subsetting the dataframe to consider only the trials for one given subject (remember `reset_index()` when subsetting rows of a dataframe!).\n",
    "\n",
    "As a new thing, instead of plotting one new figure for each subject with `plt.figure()`, we will now plot each subject histograms on separate subplots of one single figure. This is accomplished with the `plt.subplot` command. Google it to figure out how to use it. Here we will be using an array of 3x3 subplots."
   ]
  },
  {
   "cell_type": "code",
   "execution_count": null,
   "metadata": {
    "ExecuteTime": {
     "end_time": "2022-02-04T22:46:47.408140Z",
     "start_time": "2022-02-04T22:46:46.634713Z"
    },
    "colab": {},
    "colab_type": "code",
    "id": "5L5erckpM0ED",
    "outputId": "091eaa5d-ff05-4d10-acaa-f62e3a393340"
   },
   "outputs": [],
   "source": [
    "plt.figure() # we generate a new figure outside the for loop, so not a new figure for each subject\n",
    "for subject in range(9): # we cycle through the 9 subjects. We know that they are numbered 0 through 8 in column 'subject'\n",
    "    ??? # we now select the subplot where we want to plot the histograms for *subject*\n",
    "    bool_s = ??? # we construct a boolean to select rows correspondint to participant *subject*\n",
    "    ds=??? #we subset the full dataframe df to select trials of participant *subject*\n",
    "    bool_cw = ??? # we construct a boolean to select rows of the subset dataframe ds corresponding to CW trials\n",
    "    plt.hist(???, alpha=0.5, density=True) # we plot the histogram of 'error' in CW trials for subject *subject*\n",
    "    bool_ccw = ??? # we construct a boolean to select rows of the subset dataframe ds corresponding to CCW trials\n",
    "    plt.hist(???, alpha=0.5, density=True) # we plot the histogram of 'error' in CCW trials for subject *subject*\n",
    "    plt.title(str(subject)) # we add a title to mark the subject that this subplot corresponds to\n",
    "#\n",
    "plt.tight_layout() # this makes the graph nicer. Try without it (putting a # in front)"
   ]
  },
  {
   "cell_type": "markdown",
   "metadata": {},
   "source": [
    "Test if there is a difference between CW and CCW at both population and subject level. We will use the t-test as implemented in the scipy library (you can Google *ttest_ind*)\n",
    "\n",
    "Is there an attractive or repulsive effect? How do you know?"
   ]
  },
  {
   "cell_type": "code",
   "execution_count": null,
   "metadata": {
    "ExecuteTime": {
     "end_time": "2022-02-04T22:46:47.814021Z",
     "start_time": "2022-02-04T22:46:47.409212Z"
    }
   },
   "outputs": [],
   "source": [
    "\n",
    "from scipy.stats import ttest_ind\n",
    "\n",
    "## First for all trials together, merging data from all participants\n",
    "#\n",
    "\n",
    "bool_cw = ??? # boolean for CW trials \n",
    "bool_ccw = ??? # boolean for CCW trials\n",
    "t, p_val = ttest_ind(???, ???) # apply the test to errors from CW and CCW trials\n",
    "if p_val < 0.05:\n",
    "    if t > 0:\n",
    "        print('Population has a sign. attractive effect (p = %f)' %p_val)\n",
    "    if t < 0:\n",
    "        print('Population has a sign. repulsive effect (p = %f)' %p_val)\n"
   ]
  },
  {
   "cell_type": "markdown",
   "metadata": {},
   "source": [
    "Now we run the same test to trials for each subject separately:"
   ]
  },
  {
   "cell_type": "code",
   "execution_count": null,
   "metadata": {},
   "outputs": [],
   "source": [
    "\n",
    "## Now we run the same test to trials for each subject separately\n",
    "#\n",
    "for subject in range(9): #loop through subjects\n",
    "    bool_s = ??? # boolean for rows corresponding to subject *subject*\n",
    "    ds = ??? # subset dataframe for subject *subject* (remember 'reset_index()' ! )\n",
    "    bool_cw = ??? # boolean for rows of ds corresponding to CW trials\n",
    "    bool_ccw = ??? # boolean for rows of ds corresponding to CCW trials\n",
    "    t, p_val = ttest_ind(???, ???) # t-test comparing mean error in CW and CCW trials for subject *subjec*\n",
    "    if p_val < 0.05:\n",
    "        if t > 0:\n",
    "            print('Subject', subject, 'has a sign. attractive effect')\n",
    "        if t < 0:\n",
    "            print('Subject ', subject, 'has a sign. repulsive effect')\n"
   ]
  },
  {
   "cell_type": "code",
   "execution_count": 13,
   "metadata": {
    "ExecuteTime": {
     "end_time": "2022-02-04T22:46:47.819299Z",
     "start_time": "2022-02-04T22:46:47.815629Z"
    }
   },
   "outputs": [],
   "source": [
    "assert np.sum(bool_s) == 120\n",
    "assert np.sum(bool_ccw)-np.sum(bool_cw) == 16"
   ]
  },
  {
   "cell_type": "markdown",
   "metadata": {},
   "source": [
    "### 3.2 Non-parametric methods (shuffling)"
   ]
  },
  {
   "cell_type": "markdown",
   "metadata": {
    "colab_type": "text",
    "id": "SPk3UqWHM0EI"
   },
   "source": [
    "We can instead avoid the Gaussian hypothesis by using permutation tests. Here, for each subject one would randomly shuffle the CW/CCW label of each trial by keeping the total number in each class fixed. This resampled distribution of trials in two classes then represents one valid representative sample consistent with your null hypothesis (which is your null hypothesis, by the way?). You compute the distance between medians in your resampled classes, and save that statistic. Then you resample again and repeat the process 1,000 times. Finally you compare the actual statistic from your real CW-CCW class separation to the distribution of statistics in samples that are consistent with your null hypothesis and from there derive a p-value for the probability of your null hypothesis being true. Check the video provided in the supporting material above for a step-by-step explanation of this *resampling* or *permutation test*.\n"
   ]
  },
  {
   "cell_type": "markdown",
   "metadata": {},
   "source": [
    "First, write in the next cell, using a \"Markdown\" cell, your null hypothesis in **boldface**"
   ]
  },
  {
   "cell_type": "markdown",
   "metadata": {},
   "source": []
  },
  {
   "cell_type": "markdown",
   "metadata": {},
   "source": [
    "Now use the permutation test for the 5th subject.\n",
    "Do you get similar results with the ttest?"
   ]
  },
  {
   "cell_type": "code",
   "execution_count": null,
   "metadata": {
    "ExecuteTime": {
     "end_time": "2022-02-04T22:46:48.359291Z",
     "start_time": "2022-02-04T22:46:47.820724Z"
    }
   },
   "outputs": [],
   "source": [
    "#first we select the data for the 5th subject (which has label 4) in the new dataset ds\n",
    "bool_s = ???\n",
    "ds = ???\n",
    "\n",
    "#we form booleans for CW and CCW trials\n",
    "bool_cw = ???\n",
    "bool_ccw = ???\n",
    "\n",
    "#Now we start the permutation test\n",
    "#we define our statistic of interest as the difference in medians of the two lists of errors, for CW and CCW trials.\n",
    "statistic = ??? - ??? \n",
    "\n",
    "#we now generate the resampled data for the permutation test\n",
    "n_perm = 1000 # number of permutations desired\n",
    "stat_perm = []  # notice this trick in Python. We generate an empty list like this, and then we will append successively with *append* in the for loop, after the loop we make a numpy array of this list\n",
    "for _ in range(n_perm): #we now run our permutations. Since we will not need to know the number of the permutation in the loop, we use this _ symbol\n",
    "    np.random.shuffle(bool_cw) #shuffle randomly the True/False entries in the array perm_cw\n",
    "    bool_ccw = np.invert(bool_cw) #invert the reshuffled booleans to get the list of random CCW trials \n",
    "    stat_perm.append( ??? - ??? ) #compute the statistic from our permuted classes, and save it in the list stat_perm\n",
    "\n",
    "stat_perm = np.array(stat_perm) # now turn the Python list into a Numpy array for mathematical calculations\n",
    "\n",
    "#here is the p-value of our permutation test. The number of times that our statistic exceeded the statistic of the \n",
    "#shuffles divided by the number of shuffles. We take this as the probability that we had obtained a statistic at\n",
    "#least as extreme as our true data if our null hypothesis was true.\n",
    "p_value = np.mean( abs(stat_perm) > abs(???) ); \n",
    "print('Subject 5, p_value permutat_test: ' + str(p_value))\n",
    "\n",
    "#t-test\n",
    "t, p_val =ttest_ind(ds[bool_cw].error, ds[bool_ccw].error)\n",
    "print('Subject 5, p_value t-test: ' +str(p_val))\n"
   ]
  },
  {
   "cell_type": "markdown",
   "metadata": {},
   "source": [
    "Now to understand the result of the permutation test, plot a histogram of your resampled statistics in *stat_perm* and mark the statistic that you obtain in your true data on the x-axis. "
   ]
  },
  {
   "cell_type": "code",
   "execution_count": null,
   "metadata": {
    "ExecuteTime": {
     "end_time": "2022-02-04T22:46:48.535125Z",
     "start_time": "2022-02-04T22:46:48.360937Z"
    }
   },
   "outputs": [],
   "source": [
    "??? # histogram of the resampled statistic\n",
    "plt.axvline(x=???, color='red') # red vertical line marking the true statistic"
   ]
  },
  {
   "cell_type": "markdown",
   "metadata": {},
   "source": [
    "Now interpret what the p-value means. Write your answer as a Markdown cell below (Insert it with \"Insert\"> \"Insert Cell Below\" in the top menu) "
   ]
  },
  {
   "cell_type": "markdown",
   "metadata": {},
   "source": [
    "To test if your interpretation is correct, now run again the permutation test for the first subject and see if it all makes sense."
   ]
  },
  {
   "cell_type": "markdown",
   "metadata": {},
   "source": [
    "Now do this together for all subjects in a for loop: compute permutation test, t-test, and plot histograms for all subjects iterating what we did before for one single subject"
   ]
  },
  {
   "cell_type": "code",
   "execution_count": null,
   "metadata": {
    "ExecuteTime": {
     "end_time": "2022-02-04T22:46:53.711757Z",
     "start_time": "2022-02-04T22:46:48.536651Z"
    },
    "colab": {},
    "colab_type": "code",
    "id": "60LhwJUQM0EK",
    "outputId": "c7269666-921d-4a8b-b38c-c54096baf351",
    "scrolled": false
   },
   "outputs": [],
   "source": [
    "plt.figure()\n",
    "for subj in range(9):\n",
    "    #first we select the data for subject subj\n",
    "    bool_s = ???\n",
    "    ds = ???\n",
    "    \n",
    "    #we form booleans for CW and CCW trials of rows in ds\n",
    "    bool_cw = ???\n",
    "    bool_ccw = ???\n",
    "\n",
    "    #first let's compute the t-test with the true selection of trials and save this for later\n",
    "    t, p_val_t = ttest_ind(???, ???)\n",
    "\n",
    "    #Now we start the permutation test\n",
    "    #we define our statistic of interest as the difference in medians of the two lists of errors, for CW and CCW trials.\n",
    "    statistic = ???; \n",
    "    \n",
    "    #we now generate the resampled data for the permutation test. See comments in previous analogous code\n",
    "    ???\n",
    "    ???\n",
    "    ???\n",
    "    ???\n",
    "    ???\n",
    "    ???\n",
    "\n",
    "    stat_perm = np.array(stat_perm)\n",
    "\n",
    "    #here is the p-value of our permutation test. The number of times that our statistic exceeded the statistic of the \n",
    "    #shuffles divided by the number of shuffles. We take this as the probability that we had obtained a statistic at\n",
    "    #least as extreme as our true data if our null hypothesis was true.\n",
    "    p_val_perm = np.mean( abs(stat_perm) > abs(statistic)); \n",
    "\n",
    "    print('Subject ' +str(subj ) +' p_value permutat_test: ' +str(p_val_perm) +', p_value t-test: ' +str(p_val_t))\n",
    "    \n",
    "    plt.subplot(3,3,subj+1)\n",
    "    plt.hist(stat_perm)\n",
    "    plt.axvline(x=statistic, color='red')\n",
    "    plt.title(str(subj))\n",
    "    \n",
    "plt.tight_layout()\n"
   ]
  }
 ],
 "metadata": {
  "colab": {
   "name": "assignment_4-full.ipynb",
   "provenance": []
  },
  "hide_input": false,
  "kernelspec": {
   "display_name": "Python 3 (ipykernel)",
   "language": "python",
   "name": "python3"
  },
  "language_info": {
   "codemirror_mode": {
    "name": "ipython",
    "version": 3
   },
   "file_extension": ".py",
   "mimetype": "text/x-python",
   "name": "python",
   "nbconvert_exporter": "python",
   "pygments_lexer": "ipython3",
   "version": "3.9.13"
  },
  "toc": {
   "base_numbering": 1,
   "nav_menu": {},
   "number_sections": true,
   "sideBar": true,
   "skip_h1_title": false,
   "title_cell": "Table of Contents",
   "title_sidebar": "Contents",
   "toc_cell": false,
   "toc_position": {},
   "toc_section_display": true,
   "toc_window_display": false
  },
  "varInspector": {
   "cols": {
    "lenName": 16,
    "lenType": 16,
    "lenVar": 40
   },
   "kernels_config": {
    "python": {
     "delete_cmd_postfix": "",
     "delete_cmd_prefix": "del ",
     "library": "var_list.py",
     "varRefreshCmd": "print(var_dic_list())"
    },
    "r": {
     "delete_cmd_postfix": ") ",
     "delete_cmd_prefix": "rm(",
     "library": "var_list.r",
     "varRefreshCmd": "cat(var_dic_list()) "
    }
   },
   "types_to_exclude": [
    "module",
    "function",
    "builtin_function_or_method",
    "instance",
    "_Feature"
   ],
   "window_display": false
  }
 },
 "nbformat": 4,
 "nbformat_minor": 1
}
